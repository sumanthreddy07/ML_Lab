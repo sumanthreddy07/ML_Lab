{
 "cells": [
  {
   "cell_type": "code",
   "execution_count": 2,
   "metadata": {},
   "outputs": [],
   "source": [
    "## Machine Learning Lab-2 (02/02/2021)\n",
    "## Decision Tree Classification\n",
    "\n",
    "### Name: K V Sumanth Reddy\n",
    "## Roll No: 181CO225"
   ]
  },
  {
   "cell_type": "code",
   "execution_count": 3,
   "metadata": {},
   "outputs": [],
   "source": [
    "import numpy as np\n",
    "import matplotlib.pyplot as plt\n",
    "import pandas as pd\n",
    "\n",
    "from sklearn import preprocessing, metrics\n",
    "from sklearn.model_selection import train_test_split\n",
    "from sklearn.metrics import accuracy_score \n",
    "from sklearn.metrics import classification_report \n",
    "from sklearn.preprocessing import LabelEncoder\n",
    "from sklearn.preprocessing import OneHotEncoder\n",
    "from sklearn.tree import DecisionTreeClassifier, plot_tree"
   ]
  },
  {
   "cell_type": "code",
   "execution_count": 4,
   "metadata": {},
   "outputs": [
    {
     "data": {
      "text/html": [
       "<div>\n",
       "<style scoped>\n",
       "    .dataframe tbody tr th:only-of-type {\n",
       "        vertical-align: middle;\n",
       "    }\n",
       "\n",
       "    .dataframe tbody tr th {\n",
       "        vertical-align: top;\n",
       "    }\n",
       "\n",
       "    .dataframe thead th {\n",
       "        text-align: right;\n",
       "    }\n",
       "</style>\n",
       "<table border=\"1\" class=\"dataframe\">\n",
       "  <thead>\n",
       "    <tr style=\"text-align: right;\">\n",
       "      <th></th>\n",
       "      <th>PassengerId</th>\n",
       "      <th>Survived</th>\n",
       "      <th>Pclass</th>\n",
       "      <th>Age</th>\n",
       "      <th>SibSp</th>\n",
       "      <th>Parch</th>\n",
       "      <th>Fare</th>\n",
       "    </tr>\n",
       "  </thead>\n",
       "  <tbody>\n",
       "    <tr>\n",
       "      <th>count</th>\n",
       "      <td>891.000000</td>\n",
       "      <td>891.000000</td>\n",
       "      <td>891.000000</td>\n",
       "      <td>891.000000</td>\n",
       "      <td>891.000000</td>\n",
       "      <td>891.000000</td>\n",
       "      <td>891.000000</td>\n",
       "    </tr>\n",
       "    <tr>\n",
       "      <th>mean</th>\n",
       "      <td>446.000000</td>\n",
       "      <td>0.383838</td>\n",
       "      <td>2.308642</td>\n",
       "      <td>29.758889</td>\n",
       "      <td>0.523008</td>\n",
       "      <td>0.381594</td>\n",
       "      <td>32.204208</td>\n",
       "    </tr>\n",
       "    <tr>\n",
       "      <th>std</th>\n",
       "      <td>257.353842</td>\n",
       "      <td>0.486592</td>\n",
       "      <td>0.836071</td>\n",
       "      <td>13.002570</td>\n",
       "      <td>1.102743</td>\n",
       "      <td>0.806057</td>\n",
       "      <td>49.693429</td>\n",
       "    </tr>\n",
       "    <tr>\n",
       "      <th>min</th>\n",
       "      <td>1.000000</td>\n",
       "      <td>0.000000</td>\n",
       "      <td>1.000000</td>\n",
       "      <td>0.420000</td>\n",
       "      <td>0.000000</td>\n",
       "      <td>0.000000</td>\n",
       "      <td>0.000000</td>\n",
       "    </tr>\n",
       "    <tr>\n",
       "      <th>25%</th>\n",
       "      <td>223.500000</td>\n",
       "      <td>0.000000</td>\n",
       "      <td>2.000000</td>\n",
       "      <td>22.000000</td>\n",
       "      <td>0.000000</td>\n",
       "      <td>0.000000</td>\n",
       "      <td>7.910400</td>\n",
       "    </tr>\n",
       "    <tr>\n",
       "      <th>50%</th>\n",
       "      <td>446.000000</td>\n",
       "      <td>0.000000</td>\n",
       "      <td>3.000000</td>\n",
       "      <td>30.000000</td>\n",
       "      <td>0.000000</td>\n",
       "      <td>0.000000</td>\n",
       "      <td>14.454200</td>\n",
       "    </tr>\n",
       "    <tr>\n",
       "      <th>75%</th>\n",
       "      <td>668.500000</td>\n",
       "      <td>1.000000</td>\n",
       "      <td>3.000000</td>\n",
       "      <td>35.000000</td>\n",
       "      <td>1.000000</td>\n",
       "      <td>0.000000</td>\n",
       "      <td>31.000000</td>\n",
       "    </tr>\n",
       "    <tr>\n",
       "      <th>max</th>\n",
       "      <td>891.000000</td>\n",
       "      <td>1.000000</td>\n",
       "      <td>3.000000</td>\n",
       "      <td>80.000000</td>\n",
       "      <td>8.000000</td>\n",
       "      <td>6.000000</td>\n",
       "      <td>512.329200</td>\n",
       "    </tr>\n",
       "  </tbody>\n",
       "</table>\n",
       "</div>"
      ],
      "text/plain": [
       "       PassengerId    Survived      Pclass         Age       SibSp  \\\n",
       "count   891.000000  891.000000  891.000000  891.000000  891.000000   \n",
       "mean    446.000000    0.383838    2.308642   29.758889    0.523008   \n",
       "std     257.353842    0.486592    0.836071   13.002570    1.102743   \n",
       "min       1.000000    0.000000    1.000000    0.420000    0.000000   \n",
       "25%     223.500000    0.000000    2.000000   22.000000    0.000000   \n",
       "50%     446.000000    0.000000    3.000000   30.000000    0.000000   \n",
       "75%     668.500000    1.000000    3.000000   35.000000    1.000000   \n",
       "max     891.000000    1.000000    3.000000   80.000000    8.000000   \n",
       "\n",
       "            Parch        Fare  \n",
       "count  891.000000  891.000000  \n",
       "mean     0.381594   32.204208  \n",
       "std      0.806057   49.693429  \n",
       "min      0.000000    0.000000  \n",
       "25%      0.000000    7.910400  \n",
       "50%      0.000000   14.454200  \n",
       "75%      0.000000   31.000000  \n",
       "max      6.000000  512.329200  "
      ]
     },
     "execution_count": 4,
     "metadata": {},
     "output_type": "execute_result"
    }
   ],
   "source": [
    "#Loading Data and cleaning NULL values in the dataset\n",
    "\n",
    "df=pd.read_csv('/home/sumanth/Documents/181CO225.02-02/titanic.csv')\n",
    "\n",
    "m = df['Age'].mean()\n",
    "df['Age'] = df['Age'].replace(np.nan, round(m))\n",
    "df['Embarked'] = df['Embarked'].replace(np.nan, 'Q')\n",
    "df= df.drop(['Cabin'], axis=1)\n",
    "df.describe()\n"
   ]
  },
  {
   "cell_type": "code",
   "execution_count": 5,
   "metadata": {},
   "outputs": [],
   "source": [
    "# Label Encoding the values\n",
    "le = LabelEncoder()\n",
    "df[\"Sex\"] = le.fit_transform(df[\"Sex\"].values)\n",
    "\n",
    "# Droping the Ticket column and converting Name to numerical form\n",
    "df = df.drop(['Ticket'], axis=1)\n",
    "df[\"Embarked\"] = le.fit_transform(df[\"Embarked\"].values)\n",
    "df[\"Name\"] = le.fit_transform(df[\"Name\"].values)"
   ]
  },
  {
   "cell_type": "code",
   "execution_count": 6,
   "metadata": {},
   "outputs": [],
   "source": [
    "from sklearn.preprocessing import MinMaxScaler\n",
    "\n",
    "#Splitting into train, test sets\n",
    "features = [\"PassengerId\",\"Pclass\",\"Sex\",\"Age\",\"SibSp\",\"Parch\",\"Fare\",\"Embarked\"]\n",
    "X = df[features]\n",
    "y = df['Survived']\n",
    "\n",
    "# Cross validation\n",
    "X_train,X_test, y_train,y_test = train_test_split(X, y, test_size = 0.20)\n",
    "\n",
    "sc_X = MinMaxScaler()\n",
    "X_train = sc_X.fit_transform(X_train)\n",
    "X_test = sc_X.transform(X_test)"
   ]
  },
  {
   "cell_type": "code",
   "execution_count": 7,
   "metadata": {},
   "outputs": [
    {
     "data": {
      "text/plain": [
       "<matplotlib.legend.Legend at 0x7fe2d9bc5fd0>"
      ]
     },
     "execution_count": 7,
     "metadata": {},
     "output_type": "execute_result"
    },
    {
     "data": {
      "image/png": "[encoded data removed]",
      "text/plain": [
       "<Figure size 432x288 with 1 Axes>"
      ]
     },
     "metadata": {
      "needs_background": "light"
     },
     "output_type": "display_data"
    }
   ],
   "source": [
    "# We apply pruning to get better accuracies\n",
    "\n",
    "max_depth = []\n",
    "acc_gini = []\n",
    "acc_entropy = []\n",
    "for i in range(1,30):\n",
    " dtree = DecisionTreeClassifier(criterion='gini', max_depth=i)\n",
    " dtree.fit(X_train, y_train)\n",
    " pred = dtree.predict(X_test)\n",
    " acc_gini.append(accuracy_score(y_test, pred))\n",
    " \n",
    " dtree = DecisionTreeClassifier(criterion='entropy', max_depth=i)\n",
    " dtree.fit(X_train, y_train)\n",
    " pred = dtree.predict(X_test)\n",
    " acc_entropy.append(accuracy_score(y_test, pred))\n",
    " \n",
    " max_depth.append(i)\n",
    "d = pd.DataFrame({'acc_gini':pd.Series(acc_gini), \n",
    " 'acc_entropy':pd.Series(acc_entropy),\n",
    " 'max_depth':pd.Series(max_depth)})\n",
    "\n",
    "# Visualizing changes in the parameters\n",
    "plt.plot('max_depth','acc_gini', data=d, label='gini')\n",
    "plt.plot('max_depth','acc_entropy', data=d, label='entropy')\n",
    "plt.xlabel('max_depth')\n",
    "plt.ylabel('accuracy')\n",
    "plt.legend()"
   ]
  },
  {
   "cell_type": "code",
   "execution_count": 8,
   "metadata": {},
   "outputs": [
    {
     "data": {
      "text/plain": [
       "DecisionTreeClassifier(max_depth=5)"
      ]
     },
     "execution_count": 8,
     "metadata": {},
     "output_type": "execute_result"
    }
   ],
   "source": [
    "#We can change the max_depth of the tree as per our choice, I've selected it to be 5\n",
    "\n",
    "\n",
    "#id3 classification using information gain\n",
    "ID3 = DecisionTreeClassifier(criterion='entropy',max_depth = 5)\n",
    "ID3.fit(X_train, y_train)\n",
    "\n",
    "#CART classification using gini index\n",
    "CART = DecisionTreeClassifier(criterion='gini',max_depth = 5)\n",
    "CART.fit(X_train, y_train)"
   ]
  },
  {
   "cell_type": "code",
   "execution_count": null,
   "metadata": {},
   "outputs": [
    {
     "name": "stdout",
     "output_type": "stream",
     "text": [
      "Decision Tree ID3 Classifier: \n",
      "-----------------------------------------------------\n",
      "              precision    recall  f1-score   support\n",
      "\n",
      "           0       0.77      0.90      0.83       114\n",
      "           1       0.76      0.52      0.62        65\n",
      "\n",
      "    accuracy                           0.77       179\n",
      "   macro avg       0.76      0.71      0.72       179\n",
      "weighted avg       0.76      0.77      0.75       179\n",
      "\n",
      "-----------------------------------------------------\n",
      "Accuracy:  76.53631284916202\n"
     ]
    },
    {
     "data": {
      "text/plain": [
       "[Text(339.58285714285716, 597.96, 'X[2] <= 0.5\\nentropy = 0.964\\nsamples = 712\\nvalue = [435, 277]'),\n",
       " Text(191.31428571428572, 489.24, 'X[1] <= 0.75\\nentropy = 0.802\\nsamples = 254\\nvalue = [62, 192]'),\n",
       " Text(95.65714285714286, 380.52000000000004, 'X[0] <= 0.406\\nentropy = 0.279\\nsamples = 145\\nvalue = [7, 138]'),\n",
       " Text(57.394285714285715, 271.8, 'X[0] <= 0.401\\nentropy = 0.48\\nsamples = 58\\nvalue = [6, 52]'),\n",
       " Text(38.26285714285714, 163.07999999999998, 'X[3] <= 0.029\\nentropy = 0.429\\nsamples = 57\\nvalue = [5, 52]'),\n",
       " Text(19.13142857142857, 54.360000000000014, 'entropy = 0.0\\nsamples = 1\\nvalue = [1, 0]'),\n",
       " Text(57.394285714285715, 54.360000000000014, 'entropy = 0.371\\nsamples = 56\\nvalue = [4, 52]'),\n",
       " Text(76.52571428571429, 163.07999999999998, 'entropy = 0.0\\nsamples = 1\\nvalue = [1, 0]'),\n",
       " Text(133.92000000000002, 271.8, 'X[3] <= 0.795\\nentropy = 0.091\\nsamples = 87\\nvalue = [1, 86]'),\n",
       " Text(114.78857142857143, 163.07999999999998, 'entropy = 0.0\\nsamples = 84\\nvalue = [0, 84]'),\n",
       " Text(153.05142857142857, 163.07999999999998, 'X[3] <= 0.823\\nentropy = 0.918\\nsamples = 3\\nvalue = [1, 2]'),\n",
       " Text(133.92000000000002, 54.360000000000014, 'entropy = 0.0\\nsamples = 1\\nvalue = [1, 0]'),\n",
       " Text(172.18285714285713, 54.360000000000014, 'entropy = 0.0\\nsamples = 2\\nvalue = [0, 2]'),\n",
       " Text(286.9714285714286, 380.52000000000004, 'X[6] <= 0.046\\nentropy = 1.0\\nsamples = 109\\nvalue = [55, 54]'),\n",
       " Text(248.70857142857142, 271.8, 'X[3] <= 0.511\\nentropy = 0.975\\nsamples = 86\\nvalue = [35, 51]'),\n",
       " Text(229.57714285714286, 163.07999999999998, 'X[0] <= 0.444\\nentropy = 0.945\\nsamples = 80\\nvalue = [29, 51]'),\n",
       " Text(210.4457142857143, 54.360000000000014, 'entropy = 0.773\\nsamples = 44\\nvalue = [10, 34]'),\n",
       " Text(248.70857142857142, 54.360000000000014, 'entropy = 0.998\\nsamples = 36\\nvalue = [19, 17]'),\n",
       " Text(267.84000000000003, 163.07999999999998, 'entropy = 0.0\\nsamples = 6\\nvalue = [6, 0]'),\n",
       " Text(325.2342857142857, 271.8, 'X[0] <= 0.361\\nentropy = 0.559\\nsamples = 23\\nvalue = [20, 3]'),\n",
       " Text(306.10285714285715, 163.07999999999998, 'X[4] <= 0.188\\nentropy = 0.985\\nsamples = 7\\nvalue = [4, 3]'),\n",
       " Text(286.9714285714286, 54.360000000000014, 'entropy = 0.0\\nsamples = 2\\nvalue = [0, 2]'),\n",
       " Text(325.2342857142857, 54.360000000000014, 'entropy = 0.722\\nsamples = 5\\nvalue = [4, 1]'),\n",
       " Text(344.36571428571426, 163.07999999999998, 'entropy = 0.0\\nsamples = 16\\nvalue = [16, 0]'),\n",
       " Text(487.8514285714286, 489.24, 'X[6] <= 0.03\\nentropy = 0.692\\nsamples = 458\\nvalue = [373, 85]'),\n",
       " Text(401.76, 380.52000000000004, 'X[3] <= 0.185\\nentropy = 0.458\\nsamples = 269\\nvalue = [243, 26]'),\n",
       " Text(382.62857142857143, 271.8, 'entropy = 0.0\\nsamples = 3\\nvalue = [0, 3]'),\n",
       " Text(420.8914285714286, 271.8, 'X[0] <= 0.625\\nentropy = 0.425\\nsamples = 266\\nvalue = [243, 23]'),\n",
       " Text(382.62857142857143, 163.07999999999998, 'X[0] <= 0.61\\nentropy = 0.546\\nsamples = 159\\nvalue = [139, 20]'),\n",
       " Text(363.4971428571429, 54.360000000000014, 'entropy = 0.516\\nsamples = 156\\nvalue = [138, 18]'),\n",
       " Text(401.76, 54.360000000000014, 'entropy = 0.918\\nsamples = 3\\nvalue = [1, 2]'),\n",
       " Text(459.1542857142857, 163.07999999999998, 'X[6] <= 0.015\\nentropy = 0.184\\nsamples = 107\\nvalue = [104, 3]'),\n",
       " Text(440.02285714285716, 54.360000000000014, 'entropy = 0.0\\nsamples = 63\\nvalue = [63, 0]'),\n",
       " Text(478.2857142857143, 54.360000000000014, 'entropy = 0.359\\nsamples = 44\\nvalue = [41, 3]'),\n",
       " Text(573.9428571428572, 380.52000000000004, 'X[4] <= 0.312\\nentropy = 0.896\\nsamples = 189\\nvalue = [130, 59]'),\n",
       " Text(516.5485714285714, 271.8, 'X[3] <= 0.136\\nentropy = 0.934\\nsamples = 166\\nvalue = [108, 58]'),\n",
       " Text(497.41714285714284, 163.07999999999998, 'entropy = 0.0\\nsamples = 14\\nvalue = [0, 14]'),\n",
       " Text(535.6800000000001, 163.07999999999998, 'X[6] <= 0.051\\nentropy = 0.868\\nsamples = 152\\nvalue = [108, 44]'),\n",
       " Text(516.5485714285714, 54.360000000000014, 'entropy = 0.439\\nsamples = 44\\nvalue = [40, 4]'),\n",
       " Text(554.8114285714286, 54.360000000000014, 'entropy = 0.951\\nsamples = 108\\nvalue = [68, 40]'),\n",
       " Text(631.3371428571429, 271.8, 'X[3] <= 0.044\\nentropy = 0.258\\nsamples = 23\\nvalue = [22, 1]'),\n",
       " Text(612.2057142857143, 163.07999999999998, 'X[3] <= 0.029\\nentropy = 0.65\\nsamples = 6\\nvalue = [5, 1]'),\n",
       " Text(593.0742857142857, 54.360000000000014, 'entropy = 0.0\\nsamples = 5\\nvalue = [5, 0]'),\n",
       " Text(631.3371428571429, 54.360000000000014, 'entropy = 0.0\\nsamples = 1\\nvalue = [0, 1]'),\n",
       " Text(650.4685714285714, 163.07999999999998, 'entropy = 0.0\\nsamples = 17\\nvalue = [17, 0]')]"
      ]
     },
     "execution_count": 12,
     "metadata": {},
     "output_type": "execute_result"
    }
   ],
   "source": [
    "print(\"Decision Tree ID3 Classifier: \")\n",
    "y_predID3 = ID3.predict(X_test)\n",
    "print('-----------------------------------------------------')\n",
    "print(classification_report(y_test, y_predID3))\n",
    "print('-----------------------------------------------------')\n",
    "print('Accuracy: ', (accuracy_score(y_test, y_predID3) * 100))\n",
    "\n",
    "plt.figure(figsize=(12,12))\n",
    "plot_tree(ID3,fontsize=10)"
   ]
  },
  {
   "cell_type": "code",
   "execution_count": 54,
   "metadata": {},
   "outputs": [
    {
     "name": "stdout",
     "output_type": "stream",
     "text": [
      "Decision Tree CART Classifier: \n",
      "-----------------------------------------------------\n",
      "              precision    recall  f1-score   support\n",
      "\n",
      "           0       0.84      0.86      0.85       114\n",
      "           1       0.75      0.72      0.73        65\n",
      "\n",
      "    accuracy                           0.81       179\n",
      "   macro avg       0.80      0.79      0.79       179\n",
      "weighted avg       0.81      0.81      0.81       179\n",
      "\n",
      "-----------------------------------------------------\n",
      "Accuracy:  81.00558659217877\n"
     ]
    },
    {
     "data": {
      "text/plain": [
       "[Text(160.56734693877553, 199.32, 'X[2] <= 0.5\\ngini = 0.475\\nsamples = 712\\nvalue = [435, 277]'),\n",
       " Text(78.57551020408164, 163.07999999999998, 'X[1] <= 0.75\\ngini = 0.386\\nsamples = 256\\nvalue = [67, 189]'),\n",
       " Text(30.746938775510205, 126.83999999999999, 'X[3] <= 0.032\\ngini = 0.072\\nsamples = 134\\nvalue = [5, 129]'),\n",
       " Text(13.66530612244898, 90.6, 'X[1] <= 0.25\\ngini = 0.5\\nsamples = 2\\nvalue = [1, 1]'),\n",
       " Text(6.83265306122449, 54.359999999999985, 'gini = 0.0\\nsamples = 1\\nvalue = [1, 0]'),\n",
       " Text(20.49795918367347, 54.359999999999985, 'gini = 0.0\\nsamples = 1\\nvalue = [0, 1]'),\n",
       " Text(47.82857142857143, 90.6, 'X[6] <= 0.051\\ngini = 0.059\\nsamples = 132\\nvalue = [4, 128]'),\n",
       " Text(34.16326530612245, 54.359999999999985, 'X[0] <= 0.053\\ngini = 0.127\\nsamples = 44\\nvalue = [3, 41]'),\n",
       " Text(27.33061224489796, 18.119999999999976, 'gini = 0.5\\nsamples = 2\\nvalue = [1, 1]'),\n",
       " Text(40.99591836734694, 18.119999999999976, 'gini = 0.091\\nsamples = 42\\nvalue = [2, 40]'),\n",
       " Text(61.49387755102041, 54.359999999999985, 'X[6] <= 0.291\\ngini = 0.022\\nsamples = 88\\nvalue = [1, 87]'),\n",
       " Text(54.66122448979592, 18.119999999999976, 'gini = 0.0\\nsamples = 74\\nvalue = [0, 74]'),\n",
       " Text(68.3265306122449, 18.119999999999976, 'gini = 0.133\\nsamples = 14\\nvalue = [1, 13]'),\n",
       " Text(126.40408163265306, 126.83999999999999, 'X[6] <= 0.048\\ngini = 0.5\\nsamples = 122\\nvalue = [62, 60]'),\n",
       " Text(102.48979591836735, 90.6, 'X[7] <= 0.75\\ngini = 0.491\\nsamples = 104\\nvalue = [45, 59]'),\n",
       " Text(88.82448979591837, 54.359999999999985, 'X[3] <= 0.384\\ngini = 0.4\\nsamples = 47\\nvalue = [13, 34]'),\n",
       " Text(81.99183673469388, 18.119999999999976, 'gini = 0.369\\nsamples = 45\\nvalue = [11, 34]'),\n",
       " Text(95.65714285714286, 18.119999999999976, 'gini = 0.0\\nsamples = 2\\nvalue = [2, 0]'),\n",
       " Text(116.15510204081633, 54.359999999999985, 'X[6] <= 0.015\\ngini = 0.492\\nsamples = 57\\nvalue = [32, 25]'),\n",
       " Text(109.32244897959184, 18.119999999999976, 'gini = 0.0\\nsamples = 2\\nvalue = [0, 2]'),\n",
       " Text(122.98775510204082, 18.119999999999976, 'gini = 0.487\\nsamples = 55\\nvalue = [32, 23]'),\n",
       " Text(150.31836734693877, 90.6, 'X[3] <= 0.064\\ngini = 0.105\\nsamples = 18\\nvalue = [17, 1]'),\n",
       " Text(143.4857142857143, 54.359999999999985, 'X[3] <= 0.039\\ngini = 0.5\\nsamples = 2\\nvalue = [1, 1]'),\n",
       " Text(136.6530612244898, 18.119999999999976, 'gini = 0.0\\nsamples = 1\\nvalue = [1, 0]'),\n",
       " Text(150.31836734693877, 18.119999999999976, 'gini = 0.0\\nsamples = 1\\nvalue = [0, 1]'),\n",
       " Text(157.15102040816328, 54.359999999999985, 'gini = 0.0\\nsamples = 16\\nvalue = [16, 0]'),\n",
       " Text(242.5591836734694, 163.07999999999998, 'X[1] <= 0.25\\ngini = 0.311\\nsamples = 456\\nvalue = [368, 88]'),\n",
       " Text(201.56326530612245, 126.83999999999999, 'X[3] <= 0.535\\ngini = 0.486\\nsamples = 89\\nvalue = [52, 37]'),\n",
       " Text(177.64897959183673, 90.6, 'X[6] <= 0.051\\ngini = 0.499\\nsamples = 55\\nvalue = [26, 29]'),\n",
       " Text(170.81632653061226, 54.359999999999985, 'gini = 0.0\\nsamples = 4\\nvalue = [4, 0]'),\n",
       " Text(184.48163265306124, 54.359999999999985, 'X[0] <= 0.194\\ngini = 0.491\\nsamples = 51\\nvalue = [22, 29]'),\n",
       " Text(177.64897959183673, 18.119999999999976, 'gini = 0.375\\nsamples = 8\\nvalue = [6, 2]'),\n",
       " Text(191.31428571428572, 18.119999999999976, 'gini = 0.467\\nsamples = 43\\nvalue = [16, 27]'),\n",
       " Text(225.47755102040816, 90.6, 'X[0] <= 0.642\\ngini = 0.36\\nsamples = 34\\nvalue = [26, 8]'),\n",
       " Text(211.8122448979592, 54.359999999999985, 'X[6] <= 0.054\\ngini = 0.159\\nsamples = 23\\nvalue = [21, 2]'),\n",
       " Text(204.9795918367347, 18.119999999999976, 'gini = 0.444\\nsamples = 6\\nvalue = [4, 2]'),\n",
       " Text(218.64489795918368, 18.119999999999976, 'gini = 0.0\\nsamples = 17\\nvalue = [17, 0]'),\n",
       " Text(239.14285714285714, 54.359999999999985, 'X[0] <= 0.734\\ngini = 0.496\\nsamples = 11\\nvalue = [5, 6]'),\n",
       " Text(232.31020408163266, 18.119999999999976, 'gini = 0.0\\nsamples = 3\\nvalue = [0, 3]'),\n",
       " Text(245.97551020408164, 18.119999999999976, 'gini = 0.469\\nsamples = 8\\nvalue = [5, 3]'),\n",
       " Text(283.55510204081634, 126.83999999999999, 'X[3] <= 0.114\\ngini = 0.239\\nsamples = 367\\nvalue = [316, 51]'),\n",
       " Text(259.6408163265306, 90.6, 'X[4] <= 0.25\\ngini = 0.496\\nsamples = 22\\nvalue = [10, 12]'),\n",
       " Text(252.80816326530612, 54.359999999999985, 'gini = 0.0\\nsamples = 11\\nvalue = [0, 11]'),\n",
       " Text(266.47346938775513, 54.359999999999985, 'X[0] <= 0.249\\ngini = 0.165\\nsamples = 11\\nvalue = [10, 1]'),\n",
       " Text(259.6408163265306, 18.119999999999976, 'gini = 0.0\\nsamples = 7\\nvalue = [7, 0]'),\n",
       " Text(273.3061224489796, 18.119999999999976, 'gini = 0.375\\nsamples = 4\\nvalue = [3, 1]'),\n",
       " Text(307.46938775510205, 90.6, 'X[7] <= 0.25\\ngini = 0.201\\nsamples = 345\\nvalue = [306, 39]'),\n",
       " Text(293.8040816326531, 54.359999999999985, 'X[3] <= 0.281\\ngini = 0.357\\nsamples = 43\\nvalue = [33, 10]'),\n",
       " Text(286.9714285714286, 18.119999999999976, 'gini = 0.5\\nsamples = 8\\nvalue = [4, 4]'),\n",
       " Text(300.63673469387754, 18.119999999999976, 'gini = 0.284\\nsamples = 35\\nvalue = [29, 6]'),\n",
       " Text(321.13469387755106, 54.359999999999985, 'X[6] <= 0.101\\ngini = 0.174\\nsamples = 302\\nvalue = [273, 29]'),\n",
       " Text(314.30204081632655, 18.119999999999976, 'gini = 0.158\\nsamples = 290\\nvalue = [265, 25]'),\n",
       " Text(327.9673469387755, 18.119999999999976, 'gini = 0.444\\nsamples = 12\\nvalue = [8, 4]')]"
      ]
     },
     "execution_count": 54,
     "metadata": {},
     "output_type": "execute_result"
    },
    {
     "data": {
      "image/png": "[encoded data removed]",
      "text/plain": [
       "<Figure size 432x288 with 1 Axes>"
      ]
     },
     "metadata": {
      "needs_background": "light"
     },
     "output_type": "display_data"
    }
   ],
   "source": [
    "print(\"Decision Tree CART Classifier: \")\n",
    "y_predCART = CART.predict(X_test)\n",
    "print('-----------------------------------------------------')\n",
    "print(classification_report(y_test, y_predCART))\n",
    "print('-----------------------------------------------------')\n",
    "print('Accuracy: ', (accuracy_score(y_test, y_predCART) * 100))\n",
    "\n",
    "plot_tree(CART)"
   ]
  },
  {
   "cell_type": "code",
   "execution_count": null,
   "metadata": {},
   "outputs": [],
   "source": []
  }
 ],
 "metadata": {
  "kernelspec": {
   "display_name": "Python 3",
   "language": "python",
   "name": "python3"
  },
  "language_info": {
   "codemirror_mode": {
    "name": "ipython",
    "version": 3
   },
   "file_extension": ".py",
   "mimetype": "text/x-python",
   "name": "python",
   "nbconvert_exporter": "python",
   "pygments_lexer": "ipython3",
   "version": "3.7.6"
  }
 },
 "nbformat": 4,
 "nbformat_minor": 4
}
