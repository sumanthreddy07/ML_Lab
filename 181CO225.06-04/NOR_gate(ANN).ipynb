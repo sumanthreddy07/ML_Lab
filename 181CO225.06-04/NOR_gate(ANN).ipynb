{
  "nbformat": 4,
  "nbformat_minor": 0,
  "metadata": {
    "colab": {
      "name": "NOR_gate(ANN)",
      "provenance": [],
      "collapsed_sections": [],
      "toc_visible": true
    },
    "kernelspec": {
      "name": "python3",
      "display_name": "Python 3"
    },
    "language_info": {
      "name": "python"
    }
  },
  "cells": [
    {
      "cell_type": "markdown",
      "metadata": {
        "id": "fxyit-HGU3eI"
      },
      "source": [
        "<center>\n",
        "\n",
        "# **CS353 ML Lab 9**\n",
        "\n",
        "## Name: K V Sumanth Reddy\n",
        "## Roll No: 181CO225\n",
        "### Batch: Section 2\n",
        "### Date: 06/04/2021\n",
        "---\n",
        "###Q: Implementation of Artificial Neural Network for **NOR Logic Gate** with 2-bit Binary Input.\n",
        "---\n",
        "</center>"
      ]
    },
    {
      "cell_type": "markdown",
      "metadata": {
        "id": "Da8GL09nejKS"
      },
      "source": [
        "###<b>Import Libraries"
      ]
    },
    {
      "cell_type": "code",
      "metadata": {
        "id": "LstBewdfU2xu"
      },
      "source": [
        "import numpy as np\n",
        "import matplotlib.pyplot as plt"
      ],
      "execution_count": 1,
      "outputs": []
    },
    {
      "cell_type": "markdown",
      "metadata": {
        "id": "QVpLE4EdIWnN"
      },
      "source": [
        "<center>\n",
        "\n",
        "## Truth table for NOR gate\n",
        "\n",
        "| A | B | A NOR B|\n",
        "| -- | -- | -- |\n",
        "| 0 | 0 | 1 |\n",
        "| 0 | 1 | 0 |\n",
        "| 1 | 0 | 0 |\n",
        "| 1 | 1 | 0 |\n",
        "\n",
        "</center>"
      ]
    },
    {
      "cell_type": "markdown",
      "metadata": {
        "id": "wxCnqyW2eryB"
      },
      "source": [
        "###<b>Sigmoid Function "
      ]
    },
    {
      "cell_type": "code",
      "metadata": {
        "id": "pAABkVLkdXa8"
      },
      "source": [
        "def sigmoid(z):\n",
        "    return 1 / (1 + np.exp(-z))"
      ],
      "execution_count": 2,
      "outputs": []
    },
    {
      "cell_type": "markdown",
      "metadata": {
        "id": "xtVPNZqoez0A"
      },
      "source": [
        "###<b>Initalizing Weights"
      ]
    },
    {
      "cell_type": "code",
      "metadata": {
        "id": "MkqDwE1Ndaot"
      },
      "source": [
        "# Weights are random values between 0 and 1 with bias value 1\n",
        "def initializeParameters(input, HiddenLayers, output):\n",
        "  \n",
        "    W1 = np.random.randn(HiddenLayers, input)\n",
        "    W2 = np.random.randn(output, HiddenLayers)\n",
        "    b1 = np.zeros((HiddenLayers, 1))\n",
        "    b2 = np.zeros((output, 1))\n",
        "      \n",
        "    parameters = {\"W1\":W1, \"b1\":b1, \"W2\":W2, \"b2\":b2}\n",
        "    return parameters"
      ],
      "execution_count": 3,
      "outputs": []
    },
    {
      "cell_type": "markdown",
      "metadata": {
        "id": "t7L0XFAmfdwU"
      },
      "source": [
        "###<b>Forward Propagation"
      ]
    },
    {
      "cell_type": "code",
      "metadata": {
        "id": "Lt_4cymzdalh"
      },
      "source": [
        "def forwardPropagation(X, Y, parameters):\n",
        "    m = X.shape[1]\n",
        "    W1 = parameters[\"W1\"]\n",
        "    W2 = parameters[\"W2\"]\n",
        "    b1 = parameters[\"b1\"]\n",
        "    b2 = parameters[\"b2\"]\n",
        "  \n",
        "    Z1 = np.dot(W1, X) + b1\n",
        "    A1 = sigmoid(Z1)\n",
        "    Z2 = np.dot(W2, A1) + b2\n",
        "    A2 = sigmoid(Z2)\n",
        "  \n",
        "    cache = (Z1, A1, W1, b1, Z2, A2, W2, b2)\n",
        "    logprobs = np.multiply(np.log(A2), Y) + np.multiply(np.log(1 - A2), (1 - Y))\n",
        "    cost = -np.sum(logprobs) / m\n",
        "    return cost, cache, A2"
      ],
      "execution_count": 4,
      "outputs": []
    },
    {
      "cell_type": "markdown",
      "metadata": {
        "id": "lMBWD_bqfj4a"
      },
      "source": [
        "###<b>Backward Propagation"
      ]
    },
    {
      "cell_type": "code",
      "metadata": {
        "id": "2M6Myn3Vdai-"
      },
      "source": [
        "def backwardPropagation(X, Y, cache):\n",
        "    m = X.shape[1]\n",
        "    (Z1, A1, W1, b1, Z2, A2, W2, b2) = cache\n",
        "      \n",
        "    dZ2 = A2 - Y\n",
        "    dW2 = np.dot(dZ2, A1.T) / m\n",
        "    db2 = np.sum(dZ2, axis = 1, keepdims = True)\n",
        "      \n",
        "    dA1 = np.dot(W2.T, dZ2)\n",
        "    dZ1 = np.multiply(dA1, A1 * (1- A1))\n",
        "    dW1 = np.dot(dZ1, X.T) / m\n",
        "    db1 = np.sum(dZ1, axis = 1, keepdims = True) / m\n",
        "      \n",
        "    gradients = {\"dZ2\":dZ2, \"dW2\":dW2, \"db2\":db2, \"dZ1\":dZ1, \"dW1\":dW1, \"db1\":db1}\n",
        "    return gradients"
      ],
      "execution_count": 5,
      "outputs": []
    },
    {
      "cell_type": "code",
      "metadata": {
        "id": "92PxhYqTdage"
      },
      "source": [
        "# Updating the weights based on the negative gradients\n",
        "def updateParameters(parameters, gradients, learningRate):\n",
        "    parameters[\"W1\"] = parameters[\"W1\"] - learningRate * gradients[\"dW1\"]\n",
        "    parameters[\"W2\"] = parameters[\"W2\"] - learningRate * gradients[\"dW2\"]\n",
        "    parameters[\"b1\"] = parameters[\"b1\"] - learningRate * gradients[\"db1\"]\n",
        "    parameters[\"b2\"] = parameters[\"b2\"] - learningRate * gradients[\"db2\"]\n",
        "    return parameters\n",
        "  \n",
        "# Model inputs for AND truth table \n",
        "X = np.array([[0, 0, 1, 1], [0, 1, 0, 1]]) # AND input\n",
        "Y = np.array([[1, 0, 0, 0]]) # AND output"
      ],
      "execution_count": 6,
      "outputs": []
    },
    {
      "cell_type": "markdown",
      "metadata": {
        "id": "PvWToRmAgD4V"
      },
      "source": [
        "###<b>Model Parameters"
      ]
    },
    {
      "cell_type": "code",
      "metadata": {
        "id": "psZDi5qVdaeI"
      },
      "source": [
        "HiddenLayers = 2          # number of hidden layer neurons (2)\n",
        "input = X.shape[0]        # number of input features (2)\n",
        "output = Y.shape[0]       # number of output features (1)\n",
        "parameters = initializeParameters(input, HiddenLayers, output)\n",
        "epoch = 100000\n",
        "learningRate = 0.01\n",
        "losses = np.zeros((epoch, 1))\n",
        "  \n",
        "for i in range(epoch):\n",
        "    losses[i, 0], cache, A2 = forwardPropagation(X, Y, parameters)\n",
        "    gradients = backwardPropagation(X, Y, cache)\n",
        "    parameters = updateParameters(parameters, gradients, learningRate)"
      ],
      "execution_count": 7,
      "outputs": []
    },
    {
      "cell_type": "markdown",
      "metadata": {
        "id": "vKiCW6wHg47n"
      },
      "source": [
        "###<b>Predicting Values"
      ]
    },
    {
      "cell_type": "code",
      "metadata": {
        "colab": {
          "base_uri": "https://localhost:8080/",
          "height": 0
        },
        "id": "kvyepQu5daY-",
        "outputId": "b87a6c3d-a4bb-4406-a6fd-2c660f1311cc"
      },
      "source": [
        "X = np.array([[1, 1, 0, 0], [0, 1, 0, 1]]) # AND input\n",
        "cost, _, A2 = forwardPropagation(X, Y, parameters)\n",
        "prediction = (A2 > 0.5) * 1.0\n",
        "\n",
        "print('X0| X1| Y')\n",
        "print('--|---|--')\n",
        "for i in range(0,4):\n",
        "  print('{} | {} | {}'.format(X[0, i], X[1, i], int(prediction[0,i])))\n"
      ],
      "execution_count": 8,
      "outputs": [
        {
          "output_type": "stream",
          "text": [
            "X0| X1| Y\n",
            "--|---|--\n",
            "1 | 0 | 0\n",
            "1 | 1 | 0\n",
            "0 | 0 | 1\n",
            "0 | 1 | 0\n"
          ],
          "name": "stdout"
        }
      ]
    },
    {
      "cell_type": "markdown",
      "metadata": {
        "id": "HRMwCFDOgMut"
      },
      "source": [
        "###<b>Results"
      ]
    },
    {
      "cell_type": "code",
      "metadata": {
        "colab": {
          "base_uri": "https://localhost:8080/",
          "height": 295
        },
        "id": "bBXZ21Lpdabj",
        "outputId": "e92d8112-6f77-4eb8-cde4-4340e66a7646"
      },
      "source": [
        "# Evaluating the performance\n",
        "plt.figure()\n",
        "plt.plot(losses)\n",
        "plt.xlabel(\"EPOCHS\")\n",
        "plt.ylabel(\"Loss value\")\n",
        "\n",
        "plt.title('Epochs vs Loss value')\n",
        "plt.savefig('Epochs vs Loss value.png')\n",
        "plt.show()"
      ],
      "execution_count": 9,
      "outputs": [
        {
          "output_type": "display_data",
          "data": {
            "image/png": "[encoded data removed]",
            "text/plain": [
              "<Figure size 432x288 with 1 Axes>"
            ]
          },
          "metadata": {
            "tags": [],
            "needs_background": "light"
          }
        }
      ]
    },
    {
      "cell_type": "code",
      "metadata": {
        "id": "rEbTvkfLdaWj"
      },
      "source": [
        ""
      ],
      "execution_count": 9,
      "outputs": []
    }
  ]
}