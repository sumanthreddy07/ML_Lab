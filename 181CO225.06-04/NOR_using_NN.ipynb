{
  "nbformat": 4,
  "nbformat_minor": 0,
  "metadata": {
    "colab": {
      "name": "NOR_using_NN",
      "provenance": [],
      "collapsed_sections": []
    },
    "kernelspec": {
      "name": "python3",
      "display_name": "Python 3"
    },
    "language_info": {
      "name": "python"
    }
  },
  "cells": [
    {
      "cell_type": "markdown",
      "metadata": {
        "id": "fxyit-HGU3eI"
      },
      "source": [
        "<center>\n",
        "\n",
        "# **CS353 ML Lab 9**\n",
        "\n",
        "## Name: K V Sumanth Reddy\n",
        "## Roll No: 181CO225\n",
        "### Batch: Section 2\n",
        "### Date: 06/04/2021\n",
        "---\n",
        "###Q: Implementation of Artificial Neural Network for **NOR Logic Gate** with 2-bit Binary Input.\n",
        "---\n",
        "</center>"
      ]
    },
    {
      "cell_type": "markdown",
      "metadata": {
        "id": "Da8GL09nejKS"
      },
      "source": [
        "###<b>Import Libraries"
      ]
    },
    {
      "cell_type": "code",
      "metadata": {
        "id": "LstBewdfU2xu"
      },
      "source": [
        "import numpy as np\n",
        "import matplotlib.pyplot as plt\n",
        "import pandas as pd"
      ],
      "execution_count": 1,
      "outputs": []
    },
    {
      "cell_type": "code",
      "metadata": {
        "id": "7lylOqUvi3z5"
      },
      "source": [
        "from sklearn.metrics import accuracy_score,precision_score,recall_score,f1_score\n",
        "from keras import models, layers, losses, optimizers, metrics"
      ],
      "execution_count": 2,
      "outputs": []
    },
    {
      "cell_type": "markdown",
      "metadata": {
        "id": "wxCnqyW2eryB"
      },
      "source": [
        "###<b>Making a Dataset"
      ]
    },
    {
      "cell_type": "markdown",
      "metadata": {
        "id": "2ZEedWXjK5NP"
      },
      "source": [
        "<center>\n",
        "\n",
        "## Truth table for NOR gate\n",
        "\n",
        "| A | B | A NOR B|\n",
        "| -- | -- | -- |\n",
        "| 0 | 0 | 1 |\n",
        "| 0 | 1 | 0 |\n",
        "| 1 | 0 | 0 |\n",
        "| 1 | 1 | 0 |\n",
        "\n",
        "</center>"
      ]
    },
    {
      "cell_type": "code",
      "metadata": {
        "id": "pAABkVLkdXa8"
      },
      "source": [
        "x = np.random.randint(0,2,(10000,2))\n",
        "y = x[:,0] + x[:,1]\n",
        "\n",
        "for i in range(len(y)):\n",
        "  if y[i]==0:\n",
        "    y[i]=1\n",
        "  else:\n",
        "    y[i]=0"
      ],
      "execution_count": 3,
      "outputs": []
    },
    {
      "cell_type": "code",
      "metadata": {
        "id": "6cAduImTjSM8"
      },
      "source": [
        "from sklearn.model_selection import train_test_split\n",
        "x_train,x_test,y_train,y_test=train_test_split(x,y, test_size = 0.20, random_state = 0)"
      ],
      "execution_count": 4,
      "outputs": []
    },
    {
      "cell_type": "markdown",
      "metadata": {
        "id": "xtVPNZqoez0A"
      },
      "source": [
        "###<b>Neural Network"
      ]
    },
    {
      "cell_type": "code",
      "metadata": {
        "id": "MkqDwE1Ndaot"
      },
      "source": [
        "model = models.Sequential()\n",
        "model.add(layers.Dense(1, input_shape=(2,), activation='sigmoid'))\n",
        "model.compile(loss='mean_squared_error', optimizer='adam', \n",
        "              metrics=[metrics.categorical_accuracy])"
      ],
      "execution_count": 5,
      "outputs": []
    },
    {
      "cell_type": "code",
      "metadata": {
        "id": "2M6Myn3Vdai-",
        "colab": {
          "base_uri": "https://localhost:8080/",
          "height": 0
        },
        "outputId": "fb7c3f73-e48c-4e41-8996-bcba3eb14717"
      },
      "source": [
        "result = model.fit(x_train, y_train, validation_split=(0.2), \n",
        "                   batch_size=100, epochs=40, verbose=1)"
      ],
      "execution_count": 6,
      "outputs": [
        {
          "output_type": "stream",
          "text": [
            "Epoch 1/40\n",
            "64/64 [==============================] - 1s 9ms/step - loss: 0.2021 - categorical_accuracy: 1.0000 - val_loss: 0.1886 - val_categorical_accuracy: 1.0000\n",
            "Epoch 2/40\n",
            "64/64 [==============================] - 0s 2ms/step - loss: 0.1867 - categorical_accuracy: 1.0000 - val_loss: 0.1742 - val_categorical_accuracy: 1.0000\n",
            "Epoch 3/40\n",
            "64/64 [==============================] - 0s 2ms/step - loss: 0.1728 - categorical_accuracy: 1.0000 - val_loss: 0.1628 - val_categorical_accuracy: 1.0000\n",
            "Epoch 4/40\n",
            "64/64 [==============================] - 0s 2ms/step - loss: 0.1619 - categorical_accuracy: 1.0000 - val_loss: 0.1538 - val_categorical_accuracy: 1.0000\n",
            "Epoch 5/40\n",
            "64/64 [==============================] - 0s 2ms/step - loss: 0.1540 - categorical_accuracy: 1.0000 - val_loss: 0.1466 - val_categorical_accuracy: 1.0000\n",
            "Epoch 6/40\n",
            "64/64 [==============================] - 0s 2ms/step - loss: 0.1476 - categorical_accuracy: 1.0000 - val_loss: 0.1408 - val_categorical_accuracy: 1.0000\n",
            "Epoch 7/40\n",
            "64/64 [==============================] - 0s 2ms/step - loss: 0.1381 - categorical_accuracy: 1.0000 - val_loss: 0.1359 - val_categorical_accuracy: 1.0000\n",
            "Epoch 8/40\n",
            "64/64 [==============================] - 0s 2ms/step - loss: 0.1375 - categorical_accuracy: 1.0000 - val_loss: 0.1318 - val_categorical_accuracy: 1.0000\n",
            "Epoch 9/40\n",
            "64/64 [==============================] - 0s 2ms/step - loss: 0.1338 - categorical_accuracy: 1.0000 - val_loss: 0.1282 - val_categorical_accuracy: 1.0000\n",
            "Epoch 10/40\n",
            "64/64 [==============================] - 0s 2ms/step - loss: 0.1293 - categorical_accuracy: 1.0000 - val_loss: 0.1250 - val_categorical_accuracy: 1.0000\n",
            "Epoch 11/40\n",
            "64/64 [==============================] - 0s 2ms/step - loss: 0.1271 - categorical_accuracy: 1.0000 - val_loss: 0.1220 - val_categorical_accuracy: 1.0000\n",
            "Epoch 12/40\n",
            "64/64 [==============================] - 0s 2ms/step - loss: 0.1229 - categorical_accuracy: 1.0000 - val_loss: 0.1191 - val_categorical_accuracy: 1.0000\n",
            "Epoch 13/40\n",
            "64/64 [==============================] - 0s 2ms/step - loss: 0.1208 - categorical_accuracy: 1.0000 - val_loss: 0.1164 - val_categorical_accuracy: 1.0000\n",
            "Epoch 14/40\n",
            "64/64 [==============================] - 0s 2ms/step - loss: 0.1168 - categorical_accuracy: 1.0000 - val_loss: 0.1137 - val_categorical_accuracy: 1.0000\n",
            "Epoch 15/40\n",
            "64/64 [==============================] - 0s 2ms/step - loss: 0.1151 - categorical_accuracy: 1.0000 - val_loss: 0.1111 - val_categorical_accuracy: 1.0000\n",
            "Epoch 16/40\n",
            "64/64 [==============================] - 0s 2ms/step - loss: 0.1133 - categorical_accuracy: 1.0000 - val_loss: 0.1085 - val_categorical_accuracy: 1.0000\n",
            "Epoch 17/40\n",
            "64/64 [==============================] - 0s 2ms/step - loss: 0.1110 - categorical_accuracy: 1.0000 - val_loss: 0.1059 - val_categorical_accuracy: 1.0000\n",
            "Epoch 18/40\n",
            "64/64 [==============================] - 0s 2ms/step - loss: 0.1069 - categorical_accuracy: 1.0000 - val_loss: 0.1033 - val_categorical_accuracy: 1.0000\n",
            "Epoch 19/40\n",
            "64/64 [==============================] - 0s 2ms/step - loss: 0.1040 - categorical_accuracy: 1.0000 - val_loss: 0.1008 - val_categorical_accuracy: 1.0000\n",
            "Epoch 20/40\n",
            "64/64 [==============================] - 0s 2ms/step - loss: 0.1039 - categorical_accuracy: 1.0000 - val_loss: 0.0982 - val_categorical_accuracy: 1.0000\n",
            "Epoch 21/40\n",
            "64/64 [==============================] - 0s 2ms/step - loss: 0.0987 - categorical_accuracy: 1.0000 - val_loss: 0.0957 - val_categorical_accuracy: 1.0000\n",
            "Epoch 22/40\n",
            "64/64 [==============================] - 0s 2ms/step - loss: 0.0974 - categorical_accuracy: 1.0000 - val_loss: 0.0933 - val_categorical_accuracy: 1.0000\n",
            "Epoch 23/40\n",
            "64/64 [==============================] - 0s 2ms/step - loss: 0.0944 - categorical_accuracy: 1.0000 - val_loss: 0.0908 - val_categorical_accuracy: 1.0000\n",
            "Epoch 24/40\n",
            "64/64 [==============================] - 0s 2ms/step - loss: 0.0915 - categorical_accuracy: 1.0000 - val_loss: 0.0885 - val_categorical_accuracy: 1.0000\n",
            "Epoch 25/40\n",
            "64/64 [==============================] - 0s 2ms/step - loss: 0.0904 - categorical_accuracy: 1.0000 - val_loss: 0.0861 - val_categorical_accuracy: 1.0000\n",
            "Epoch 26/40\n",
            "64/64 [==============================] - 0s 2ms/step - loss: 0.0871 - categorical_accuracy: 1.0000 - val_loss: 0.0838 - val_categorical_accuracy: 1.0000\n",
            "Epoch 27/40\n",
            "64/64 [==============================] - 0s 2ms/step - loss: 0.0871 - categorical_accuracy: 1.0000 - val_loss: 0.0815 - val_categorical_accuracy: 1.0000\n",
            "Epoch 28/40\n",
            "64/64 [==============================] - 0s 2ms/step - loss: 0.0818 - categorical_accuracy: 1.0000 - val_loss: 0.0793 - val_categorical_accuracy: 1.0000\n",
            "Epoch 29/40\n",
            "64/64 [==============================] - 0s 2ms/step - loss: 0.0804 - categorical_accuracy: 1.0000 - val_loss: 0.0771 - val_categorical_accuracy: 1.0000\n",
            "Epoch 30/40\n",
            "64/64 [==============================] - 0s 2ms/step - loss: 0.0786 - categorical_accuracy: 1.0000 - val_loss: 0.0749 - val_categorical_accuracy: 1.0000\n",
            "Epoch 31/40\n",
            "64/64 [==============================] - 0s 2ms/step - loss: 0.0768 - categorical_accuracy: 1.0000 - val_loss: 0.0728 - val_categorical_accuracy: 1.0000\n",
            "Epoch 32/40\n",
            "64/64 [==============================] - 0s 2ms/step - loss: 0.0734 - categorical_accuracy: 1.0000 - val_loss: 0.0708 - val_categorical_accuracy: 1.0000\n",
            "Epoch 33/40\n",
            "64/64 [==============================] - 0s 2ms/step - loss: 0.0716 - categorical_accuracy: 1.0000 - val_loss: 0.0688 - val_categorical_accuracy: 1.0000\n",
            "Epoch 34/40\n",
            "64/64 [==============================] - 0s 2ms/step - loss: 0.0689 - categorical_accuracy: 1.0000 - val_loss: 0.0668 - val_categorical_accuracy: 1.0000\n",
            "Epoch 35/40\n",
            "64/64 [==============================] - 0s 2ms/step - loss: 0.0676 - categorical_accuracy: 1.0000 - val_loss: 0.0649 - val_categorical_accuracy: 1.0000\n",
            "Epoch 36/40\n",
            "64/64 [==============================] - 0s 2ms/step - loss: 0.0664 - categorical_accuracy: 1.0000 - val_loss: 0.0631 - val_categorical_accuracy: 1.0000\n",
            "Epoch 37/40\n",
            "64/64 [==============================] - 0s 2ms/step - loss: 0.0645 - categorical_accuracy: 1.0000 - val_loss: 0.0613 - val_categorical_accuracy: 1.0000\n",
            "Epoch 38/40\n",
            "64/64 [==============================] - 0s 2ms/step - loss: 0.0613 - categorical_accuracy: 1.0000 - val_loss: 0.0595 - val_categorical_accuracy: 1.0000\n",
            "Epoch 39/40\n",
            "64/64 [==============================] - 0s 2ms/step - loss: 0.0611 - categorical_accuracy: 1.0000 - val_loss: 0.0578 - val_categorical_accuracy: 1.0000\n",
            "Epoch 40/40\n",
            "64/64 [==============================] - 0s 2ms/step - loss: 0.0584 - categorical_accuracy: 1.0000 - val_loss: 0.0561 - val_categorical_accuracy: 1.0000\n"
          ],
          "name": "stdout"
        }
      ]
    },
    {
      "cell_type": "code",
      "metadata": {
        "id": "92PxhYqTdage",
        "colab": {
          "base_uri": "https://localhost:8080/",
          "height": 0
        },
        "outputId": "628c7d92-4143-4e9c-bf07-a14f6eb4abe6"
      },
      "source": [
        "output = model.evaluate(x_test,y_test)"
      ],
      "execution_count": 7,
      "outputs": [
        {
          "output_type": "stream",
          "text": [
            "63/63 [==============================] - 0s 1ms/step - loss: 0.0581 - categorical_accuracy: 1.0000\n"
          ],
          "name": "stdout"
        }
      ]
    },
    {
      "cell_type": "markdown",
      "metadata": {
        "id": "jLu0hC2pwuip"
      },
      "source": [
        "###<b>Predictions"
      ]
    },
    {
      "cell_type": "code",
      "metadata": {
        "id": "bBXZ21Lpdabj"
      },
      "source": [
        "y_pred=model.predict(x_test).round()"
      ],
      "execution_count": 8,
      "outputs": []
    },
    {
      "cell_type": "code",
      "metadata": {
        "id": "psZDi5qVdaeI",
        "colab": {
          "base_uri": "https://localhost:8080/",
          "height": 0
        },
        "outputId": "b60dd39c-6940-4c13-e8a9-e5cab9e00805"
      },
      "source": [
        "model.predict([[0,0]]).round()"
      ],
      "execution_count": 9,
      "outputs": [
        {
          "output_type": "execute_result",
          "data": {
            "text/plain": [
              "array([[1.]], dtype=float32)"
            ]
          },
          "metadata": {
            "tags": []
          },
          "execution_count": 9
        }
      ]
    },
    {
      "cell_type": "code",
      "metadata": {
        "colab": {
          "base_uri": "https://localhost:8080/",
          "height": 0
        },
        "id": "sHfModdDkj2Y",
        "outputId": "ea23994d-888a-4b31-eaee-08797e89c838"
      },
      "source": [
        "model.predict([[0,1]]).round()"
      ],
      "execution_count": 10,
      "outputs": [
        {
          "output_type": "execute_result",
          "data": {
            "text/plain": [
              "array([[0.]], dtype=float32)"
            ]
          },
          "metadata": {
            "tags": []
          },
          "execution_count": 10
        }
      ]
    },
    {
      "cell_type": "code",
      "metadata": {
        "colab": {
          "base_uri": "https://localhost:8080/",
          "height": 0
        },
        "id": "TSIStPhQklXA",
        "outputId": "abd4df70-4327-40d3-cb82-93905a34140f"
      },
      "source": [
        "model.predict([[1,0]]).round()"
      ],
      "execution_count": 11,
      "outputs": [
        {
          "output_type": "execute_result",
          "data": {
            "text/plain": [
              "array([[0.]], dtype=float32)"
            ]
          },
          "metadata": {
            "tags": []
          },
          "execution_count": 11
        }
      ]
    },
    {
      "cell_type": "code",
      "metadata": {
        "colab": {
          "base_uri": "https://localhost:8080/",
          "height": 0
        },
        "id": "0VWfJKT6km5j",
        "outputId": "8f0bd9ab-9d55-43e9-8641-138f48cd95e6"
      },
      "source": [
        "model.predict([[1,1]]).round()"
      ],
      "execution_count": 12,
      "outputs": [
        {
          "output_type": "execute_result",
          "data": {
            "text/plain": [
              "array([[0.]], dtype=float32)"
            ]
          },
          "metadata": {
            "tags": []
          },
          "execution_count": 12
        }
      ]
    },
    {
      "cell_type": "markdown",
      "metadata": {
        "id": "HRMwCFDOgMut"
      },
      "source": [
        "###<b>Results"
      ]
    },
    {
      "cell_type": "markdown",
      "metadata": {
        "id": "HoddhMhfl6rR"
      },
      "source": [
        "**Accuracy**: \n",
        "$$\\frac {TP+TN}{P+N}$$\n",
        "\n",
        "\n",
        "**Precision**: $$\\frac {TP}{TP+FP}$$\n",
        "\n",
        "**Root Mean Squared Error**: $$\\frac {TP}{TP+FN}$$\n",
        "\n",
        "**F1 Score**: $$\\frac {2TP}{2TP + FP+FN}$$"
      ]
    },
    {
      "cell_type": "code",
      "metadata": {
        "colab": {
          "base_uri": "https://localhost:8080/",
          "height": 0
        },
        "id": "nf82_qpkku1J",
        "outputId": "3f4b08ed-a465-459f-d7c0-143911cbd467"
      },
      "source": [
        "accuracy = accuracy_score(y_test, y_pred)\n",
        "print('Accuracy: %f' % accuracy)\n",
        "\n",
        "precision = precision_score(y_test, y_pred)\n",
        "print('Precision: %f' % precision)\n",
        "\n",
        "recall = recall_score(y_test, y_pred)\n",
        "print('Recall: %f' % recall)\n",
        "\n",
        "f1 = f1_score(y_test, y_pred)\n",
        "print('F1 score: %f' % f1)"
      ],
      "execution_count": 13,
      "outputs": [
        {
          "output_type": "stream",
          "text": [
            "Accuracy: 1.000000\n",
            "Precision: 1.000000\n",
            "Recall: 1.000000\n",
            "F1 score: 1.000000\n"
          ],
          "name": "stdout"
        }
      ]
    },
    {
      "cell_type": "code",
      "metadata": {
        "id": "xFi3hjutvx_L"
      },
      "source": [
        ""
      ],
      "execution_count": 13,
      "outputs": []
    }
  ]
}