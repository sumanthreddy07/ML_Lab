{
  "nbformat": 4,
  "nbformat_minor": 0,
  "metadata": {
    "colab": {
      "name": "logistic regression",
      "provenance": []
    },
    "kernelspec": {
      "name": "python3",
      "display_name": "Python 3"
    },
    "language_info": {
      "name": "python"
    }
  },
  "cells": [
    {
      "cell_type": "markdown",
      "metadata": {
        "id": "mC4Dwq94JRnW"
      },
      "source": [
        "<center>\n",
        "\n",
        "#<b>CS353 ML Lab 7</b>\n",
        "\n",
        "## Name: K V Sumanth Reddy\n",
        "## Roll No: 181CO225\n",
        "### Batch: Section 2\n",
        "### Date: 23/03/2021\n",
        "---\n",
        "###Q: Write a program in python to implement and demostrate <b>logistic regression</b> for a sample training dataset. Compute the accuracy of the classifier.\n",
        "---\n",
        "####<b>Dataset Used: Breast Cancer Dataset</b> \n",
        "</center>"
      ]
    },
    {
      "cell_type": "markdown",
      "metadata": {
        "id": "Xkq0_NRzJ-Qx"
      },
      "source": [
        "##<b>Importing Libraries and Dataset</b>"
      ]
    },
    {
      "cell_type": "code",
      "metadata": {
        "id": "JH0rc27hHqnl"
      },
      "source": [
        "import numpy as np\n",
        "import matplotlib.pyplot as plt\n",
        "import pandas as pd\n",
        "\n",
        "from sklearn.datasets import load_breast_cancer\n",
        "from sklearn.linear_model import LogisticRegression\n",
        "from sklearn.preprocessing import StandardScaler\n",
        "\n",
        "from sklearn.metrics import plot_confusion_matrix,precision_score\n",
        "from sklearn.metrics import mean_squared_error\n",
        "from sklearn.metrics import accuracy_score, classification_report\n"
      ],
      "execution_count": 1,
      "outputs": []
    },
    {
      "cell_type": "markdown",
      "metadata": {
        "id": "reYbnlLYtZvS"
      },
      "source": [
        "##<b>Data Preprocessing</b>"
      ]
    },
    {
      "cell_type": "code",
      "metadata": {
        "colab": {
          "base_uri": "https://localhost:8080/",
          "height": 255
        },
        "id": "q-LSUmpBLM91",
        "outputId": "84c2735d-269c-4683-d196-a026b8237dda"
      },
      "source": [
        "dataset = load_breast_cancer()\n",
        "data = pd.DataFrame(dataset.data, columns=[dataset.feature_names])\n",
        "data['Target'] = pd.Series(data=dataset.target, index=data.index)\n",
        "\n",
        "x,y = load_breast_cancer(return_X_y=True)\n",
        "data.sample(5)"
      ],
      "execution_count": 2,
      "outputs": [
        {
          "output_type": "execute_result",
          "data": {
            "text/html": [
              "<div>\n",
              "<style scoped>\n",
              "    .dataframe tbody tr th:only-of-type {\n",
              "        vertical-align: middle;\n",
              "    }\n",
              "\n",
              "    .dataframe tbody tr th {\n",
              "        vertical-align: top;\n",
              "    }\n",
              "\n",
              "    .dataframe thead tr th {\n",
              "        text-align: left;\n",
              "    }\n",
              "</style>\n",
              "<table border=\"1\" class=\"dataframe\">\n",
              "  <thead>\n",
              "    <tr>\n",
              "      <th></th>\n",
              "      <th>mean radius</th>\n",
              "      <th>mean texture</th>\n",
              "      <th>mean perimeter</th>\n",
              "      <th>mean area</th>\n",
              "      <th>mean smoothness</th>\n",
              "      <th>mean compactness</th>\n",
              "      <th>mean concavity</th>\n",
              "      <th>mean concave points</th>\n",
              "      <th>mean symmetry</th>\n",
              "      <th>mean fractal dimension</th>\n",
              "      <th>radius error</th>\n",
              "      <th>texture error</th>\n",
              "      <th>perimeter error</th>\n",
              "      <th>area error</th>\n",
              "      <th>smoothness error</th>\n",
              "      <th>compactness error</th>\n",
              "      <th>concavity error</th>\n",
              "      <th>concave points error</th>\n",
              "      <th>symmetry error</th>\n",
              "      <th>fractal dimension error</th>\n",
              "      <th>worst radius</th>\n",
              "      <th>worst texture</th>\n",
              "      <th>worst perimeter</th>\n",
              "      <th>worst area</th>\n",
              "      <th>worst smoothness</th>\n",
              "      <th>worst compactness</th>\n",
              "      <th>worst concavity</th>\n",
              "      <th>worst concave points</th>\n",
              "      <th>worst symmetry</th>\n",
              "      <th>worst fractal dimension</th>\n",
              "      <th>Target</th>\n",
              "    </tr>\n",
              "  </thead>\n",
              "  <tbody>\n",
              "    <tr>\n",
              "      <th>54</th>\n",
              "      <td>15.10</td>\n",
              "      <td>22.02</td>\n",
              "      <td>97.26</td>\n",
              "      <td>712.8</td>\n",
              "      <td>0.09056</td>\n",
              "      <td>0.07081</td>\n",
              "      <td>0.05253</td>\n",
              "      <td>0.03334</td>\n",
              "      <td>0.1616</td>\n",
              "      <td>0.05684</td>\n",
              "      <td>0.3105</td>\n",
              "      <td>0.8339</td>\n",
              "      <td>2.097</td>\n",
              "      <td>29.91</td>\n",
              "      <td>0.004675</td>\n",
              "      <td>0.01030</td>\n",
              "      <td>0.01603</td>\n",
              "      <td>0.009222</td>\n",
              "      <td>0.01095</td>\n",
              "      <td>0.001629</td>\n",
              "      <td>18.10</td>\n",
              "      <td>31.69</td>\n",
              "      <td>117.70</td>\n",
              "      <td>1030.0</td>\n",
              "      <td>0.13890</td>\n",
              "      <td>0.2057</td>\n",
              "      <td>0.2712</td>\n",
              "      <td>0.15300</td>\n",
              "      <td>0.2675</td>\n",
              "      <td>0.07873</td>\n",
              "      <td>0</td>\n",
              "    </tr>\n",
              "    <tr>\n",
              "      <th>190</th>\n",
              "      <td>14.22</td>\n",
              "      <td>23.12</td>\n",
              "      <td>94.37</td>\n",
              "      <td>609.9</td>\n",
              "      <td>0.10750</td>\n",
              "      <td>0.24130</td>\n",
              "      <td>0.19810</td>\n",
              "      <td>0.06618</td>\n",
              "      <td>0.2384</td>\n",
              "      <td>0.07542</td>\n",
              "      <td>0.2860</td>\n",
              "      <td>2.1100</td>\n",
              "      <td>2.112</td>\n",
              "      <td>31.72</td>\n",
              "      <td>0.007970</td>\n",
              "      <td>0.13540</td>\n",
              "      <td>0.11660</td>\n",
              "      <td>0.016660</td>\n",
              "      <td>0.05113</td>\n",
              "      <td>0.011720</td>\n",
              "      <td>15.74</td>\n",
              "      <td>37.18</td>\n",
              "      <td>106.40</td>\n",
              "      <td>762.4</td>\n",
              "      <td>0.15330</td>\n",
              "      <td>0.9327</td>\n",
              "      <td>0.8488</td>\n",
              "      <td>0.17720</td>\n",
              "      <td>0.5166</td>\n",
              "      <td>0.14460</td>\n",
              "      <td>0</td>\n",
              "    </tr>\n",
              "    <tr>\n",
              "      <th>481</th>\n",
              "      <td>13.90</td>\n",
              "      <td>19.24</td>\n",
              "      <td>88.73</td>\n",
              "      <td>602.9</td>\n",
              "      <td>0.07991</td>\n",
              "      <td>0.05326</td>\n",
              "      <td>0.02995</td>\n",
              "      <td>0.02070</td>\n",
              "      <td>0.1579</td>\n",
              "      <td>0.05594</td>\n",
              "      <td>0.3316</td>\n",
              "      <td>0.9264</td>\n",
              "      <td>2.056</td>\n",
              "      <td>28.41</td>\n",
              "      <td>0.003704</td>\n",
              "      <td>0.01082</td>\n",
              "      <td>0.01530</td>\n",
              "      <td>0.006275</td>\n",
              "      <td>0.01062</td>\n",
              "      <td>0.002217</td>\n",
              "      <td>16.41</td>\n",
              "      <td>26.42</td>\n",
              "      <td>104.40</td>\n",
              "      <td>830.5</td>\n",
              "      <td>0.10640</td>\n",
              "      <td>0.1415</td>\n",
              "      <td>0.1673</td>\n",
              "      <td>0.08150</td>\n",
              "      <td>0.2356</td>\n",
              "      <td>0.07603</td>\n",
              "      <td>1</td>\n",
              "    </tr>\n",
              "    <tr>\n",
              "      <th>485</th>\n",
              "      <td>12.45</td>\n",
              "      <td>16.41</td>\n",
              "      <td>82.85</td>\n",
              "      <td>476.7</td>\n",
              "      <td>0.09514</td>\n",
              "      <td>0.15110</td>\n",
              "      <td>0.15440</td>\n",
              "      <td>0.04846</td>\n",
              "      <td>0.2082</td>\n",
              "      <td>0.07325</td>\n",
              "      <td>0.3921</td>\n",
              "      <td>1.2070</td>\n",
              "      <td>5.004</td>\n",
              "      <td>30.19</td>\n",
              "      <td>0.007234</td>\n",
              "      <td>0.07471</td>\n",
              "      <td>0.11140</td>\n",
              "      <td>0.027210</td>\n",
              "      <td>0.03232</td>\n",
              "      <td>0.009627</td>\n",
              "      <td>13.78</td>\n",
              "      <td>21.03</td>\n",
              "      <td>97.82</td>\n",
              "      <td>580.6</td>\n",
              "      <td>0.11750</td>\n",
              "      <td>0.4061</td>\n",
              "      <td>0.4896</td>\n",
              "      <td>0.13420</td>\n",
              "      <td>0.3231</td>\n",
              "      <td>0.10340</td>\n",
              "      <td>1</td>\n",
              "    </tr>\n",
              "    <tr>\n",
              "      <th>402</th>\n",
              "      <td>12.96</td>\n",
              "      <td>18.29</td>\n",
              "      <td>84.18</td>\n",
              "      <td>525.2</td>\n",
              "      <td>0.07351</td>\n",
              "      <td>0.07899</td>\n",
              "      <td>0.04057</td>\n",
              "      <td>0.01883</td>\n",
              "      <td>0.1874</td>\n",
              "      <td>0.05899</td>\n",
              "      <td>0.2357</td>\n",
              "      <td>1.2990</td>\n",
              "      <td>2.397</td>\n",
              "      <td>20.21</td>\n",
              "      <td>0.003629</td>\n",
              "      <td>0.03713</td>\n",
              "      <td>0.03452</td>\n",
              "      <td>0.010650</td>\n",
              "      <td>0.02632</td>\n",
              "      <td>0.003705</td>\n",
              "      <td>14.13</td>\n",
              "      <td>24.61</td>\n",
              "      <td>96.31</td>\n",
              "      <td>621.9</td>\n",
              "      <td>0.09329</td>\n",
              "      <td>0.2318</td>\n",
              "      <td>0.1604</td>\n",
              "      <td>0.06608</td>\n",
              "      <td>0.3207</td>\n",
              "      <td>0.07247</td>\n",
              "      <td>1</td>\n",
              "    </tr>\n",
              "  </tbody>\n",
              "</table>\n",
              "</div>"
            ],
            "text/plain": [
              "    mean radius mean texture  ... worst fractal dimension Target\n",
              "54        15.10        22.02  ...                 0.07873      0\n",
              "190       14.22        23.12  ...                 0.14460      0\n",
              "481       13.90        19.24  ...                 0.07603      1\n",
              "485       12.45        16.41  ...                 0.10340      1\n",
              "402       12.96        18.29  ...                 0.07247      1\n",
              "\n",
              "[5 rows x 31 columns]"
            ]
          },
          "metadata": {
            "tags": []
          },
          "execution_count": 2
        }
      ]
    },
    {
      "cell_type": "code",
      "metadata": {
        "colab": {
          "base_uri": "https://localhost:8080/",
          "height": 0
        },
        "id": "YMFF5EFdi9mg",
        "outputId": "ec530b30-b669-404a-b1a8-7ce84844ed27"
      },
      "source": [
        "print(\"Label: \", dataset.target_names)"
      ],
      "execution_count": 3,
      "outputs": [
        {
          "output_type": "stream",
          "text": [
            "Label:  ['malignant' 'benign']\n"
          ],
          "name": "stdout"
        }
      ]
    },
    {
      "cell_type": "code",
      "metadata": {
        "colab": {
          "base_uri": "https://localhost:8080/",
          "height": 0
        },
        "id": "Xd01bWwAhtDv",
        "outputId": "d7925102-2979-41dd-a029-04f5f4a35fa9"
      },
      "source": [
        "from sklearn.model_selection import train_test_split\n",
        "\n",
        "x_train, x_test, y_train, y_test = train_test_split(x, y, test_size = 0.3, random_state = 100)\n",
        "print('Training dataset size:\\nx_train -', len(x_train), '\\ny_train -', len(y_train), '\\n')\n",
        "print('Testing dataset size:\\nx_test -', len(x_test), '\\ny_test -', len(y_test))"
      ],
      "execution_count": 4,
      "outputs": [
        {
          "output_type": "stream",
          "text": [
            "Training dataset size:\n",
            "x_train - 398 \n",
            "y_train - 398 \n",
            "\n",
            "Testing dataset size:\n",
            "x_test - 171 \n",
            "y_test - 171\n"
          ],
          "name": "stdout"
        }
      ]
    },
    {
      "cell_type": "code",
      "metadata": {
        "id": "TQhzqpczmnac"
      },
      "source": [
        "sc = StandardScaler()\n",
        "x_train = sc.fit_transform(x_train)\n",
        "x_test = sc.transform(x_test)"
      ],
      "execution_count": 5,
      "outputs": []
    },
    {
      "cell_type": "code",
      "metadata": {
        "id": "trSfJER0iLdB"
      },
      "source": [
        "model = LogisticRegression()\n",
        "model.fit(x_train,y_train)\n",
        "y_pred = model.predict(x_test)"
      ],
      "execution_count": 6,
      "outputs": []
    },
    {
      "cell_type": "markdown",
      "metadata": {
        "id": "0Eafog8quXvI"
      },
      "source": [
        "## <b> Results </b>"
      ]
    },
    {
      "cell_type": "code",
      "metadata": {
        "colab": {
          "base_uri": "https://localhost:8080/",
          "height": 0
        },
        "id": "AGH7m_dAif2S",
        "outputId": "5b940454-085b-455d-8421-403987ce47a2"
      },
      "source": [
        "print('-------------------------------')\n",
        "print('Accuracy:                {:f}'.format(accuracy_score(y_test, y_pred)*100))\n",
        "print('Precision:               {:f}'.format(precision_score(y_test, y_pred)*100))\n",
        "print('Mean Squared Error:      {:f}'.format(mean_squared_error(y_test, y_pred)*100))\n",
        "print('-------------------------------')"
      ],
      "execution_count": 7,
      "outputs": [
        {
          "output_type": "stream",
          "text": [
            "-------------------------------\n",
            "Accuracy:                96.491228\n",
            "Precision:               94.444444\n",
            "Mean Squared Error:      3.508772\n",
            "-------------------------------\n"
          ],
          "name": "stdout"
        }
      ]
    },
    {
      "cell_type": "code",
      "metadata": {
        "colab": {
          "base_uri": "https://localhost:8080/",
          "height": 0
        },
        "id": "e8LHgd6UjXdC",
        "outputId": "5b355561-5281-4764-89cf-02bc13557210"
      },
      "source": [
        "print(classification_report(y_test,y_pred))"
      ],
      "execution_count": 8,
      "outputs": [
        {
          "output_type": "stream",
          "text": [
            "              precision    recall  f1-score   support\n",
            "\n",
            "           0       1.00      0.91      0.95        69\n",
            "           1       0.94      1.00      0.97       102\n",
            "\n",
            "    accuracy                           0.96       171\n",
            "   macro avg       0.97      0.96      0.96       171\n",
            "weighted avg       0.97      0.96      0.96       171\n",
            "\n"
          ],
          "name": "stdout"
        }
      ]
    },
    {
      "cell_type": "code",
      "metadata": {
        "colab": {
          "base_uri": "https://localhost:8080/",
          "height": 279
        },
        "id": "x0UEFO3EjaY_",
        "outputId": "4ad3046d-f560-411c-bf92-eb9523f336f7"
      },
      "source": [
        "plot_confusion_matrix(model, x_test, y_test, display_labels=dataset.target_names)  \n",
        "plt.show() "
      ],
      "execution_count": 9,
      "outputs": [
        {
          "output_type": "display_data",
          "data": {
            "image/png": "[encoded data removed]",
            "text/plain": [
              "<Figure size 432x288 with 2 Axes>"
            ]
          },
          "metadata": {
            "tags": [],
            "needs_background": "light"
          }
        }
      ]
    },
    {
      "cell_type": "code",
      "metadata": {
        "id": "ata2RExbmFW5"
      },
      "source": [
        ""
      ],
      "execution_count": 9,
      "outputs": []
    }
  ]
}