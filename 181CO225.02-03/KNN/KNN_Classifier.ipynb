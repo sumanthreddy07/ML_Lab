{
  "nbformat": 4,
  "nbformat_minor": 0,
  "metadata": {
    "colab": {
      "name": "KNN Classifier",
      "provenance": []
    },
    "kernelspec": {
      "name": "python3",
      "display_name": "Python 3"
    }
  },
  "cells": [
    {
      "cell_type": "markdown",
      "metadata": {
        "id": "CQA2mcWPc6mw"
      },
      "source": [
        "<center>\n",
        "\n",
        "#<b>CS353 ML Lab 5</b>\n",
        "\n",
        "## Name: K V Sumanth Reddy\n",
        "## Roll No: 181CO225\n",
        "### Date: 02/03/2021\n",
        "---\n",
        "\n",
        "###Q: Write a program in python to implement KNN classifier for a sample data set. Compute the accuracy of the classifier.\n",
        "---\n",
        "####Dataset Used: Iris_Dataset\n",
        "</center>"
      ]
    },
    {
      "cell_type": "markdown",
      "metadata": {
        "id": "cMGP4MfYv7CH"
      },
      "source": [
        "##Importing Libraries and Dataset"
      ]
    },
    {
      "cell_type": "code",
      "metadata": {
        "id": "bZ4hL0eccc0r"
      },
      "source": [
        "from sklearn.neighbors import KNeighborsClassifier \n",
        "from sklearn.datasets import load_iris \n",
        "\n",
        "from sklearn.metrics import confusion_matrix,explained_variance_score\n",
        "from sklearn.metrics import mean_squared_error,r2_score\n",
        "from sklearn.metrics import accuracy_score, classification_report\n",
        "\n",
        "import numpy as np \n",
        "import matplotlib.pyplot as plt \n",
        "import pandas as pd"
      ],
      "execution_count": 1,
      "outputs": []
    },
    {
      "cell_type": "markdown",
      "metadata": {
        "id": "lR64rHgQv-iK"
      },
      "source": [
        "##Data Preprocessing"
      ]
    },
    {
      "cell_type": "code",
      "metadata": {
        "colab": {
          "base_uri": "https://localhost:8080/",
          "height": 353
        },
        "id": "HKPeOhAgdXRj",
        "outputId": "eb41f6c4-6de4-462c-ceec-551f0e060b24"
      },
      "source": [
        "dataset = load_iris()\n",
        "x = dataset.data\n",
        "y = dataset.target\n",
        "\n",
        "data = pd.DataFrame(dataset.data, columns=[dataset.feature_names])\n",
        "data['Target'] = pd.Series(data=dataset.target, index=data.index)\n",
        "data.sample(10)"
      ],
      "execution_count": 2,
      "outputs": [
        {
          "output_type": "execute_result",
          "data": {
            "text/html": [
              "<div>\n",
              "<style scoped>\n",
              "    .dataframe tbody tr th:only-of-type {\n",
              "        vertical-align: middle;\n",
              "    }\n",
              "\n",
              "    .dataframe tbody tr th {\n",
              "        vertical-align: top;\n",
              "    }\n",
              "\n",
              "    .dataframe thead tr th {\n",
              "        text-align: left;\n",
              "    }\n",
              "</style>\n",
              "<table border=\"1\" class=\"dataframe\">\n",
              "  <thead>\n",
              "    <tr>\n",
              "      <th></th>\n",
              "      <th>sepal length (cm)</th>\n",
              "      <th>sepal width (cm)</th>\n",
              "      <th>petal length (cm)</th>\n",
              "      <th>petal width (cm)</th>\n",
              "      <th>Target</th>\n",
              "    </tr>\n",
              "  </thead>\n",
              "  <tbody>\n",
              "    <tr>\n",
              "      <th>57</th>\n",
              "      <td>4.9</td>\n",
              "      <td>2.4</td>\n",
              "      <td>3.3</td>\n",
              "      <td>1.0</td>\n",
              "      <td>1</td>\n",
              "    </tr>\n",
              "    <tr>\n",
              "      <th>85</th>\n",
              "      <td>6.0</td>\n",
              "      <td>3.4</td>\n",
              "      <td>4.5</td>\n",
              "      <td>1.6</td>\n",
              "      <td>1</td>\n",
              "    </tr>\n",
              "    <tr>\n",
              "      <th>26</th>\n",
              "      <td>5.0</td>\n",
              "      <td>3.4</td>\n",
              "      <td>1.6</td>\n",
              "      <td>0.4</td>\n",
              "      <td>0</td>\n",
              "    </tr>\n",
              "    <tr>\n",
              "      <th>90</th>\n",
              "      <td>5.5</td>\n",
              "      <td>2.6</td>\n",
              "      <td>4.4</td>\n",
              "      <td>1.2</td>\n",
              "      <td>1</td>\n",
              "    </tr>\n",
              "    <tr>\n",
              "      <th>25</th>\n",
              "      <td>5.0</td>\n",
              "      <td>3.0</td>\n",
              "      <td>1.6</td>\n",
              "      <td>0.2</td>\n",
              "      <td>0</td>\n",
              "    </tr>\n",
              "    <tr>\n",
              "      <th>24</th>\n",
              "      <td>4.8</td>\n",
              "      <td>3.4</td>\n",
              "      <td>1.9</td>\n",
              "      <td>0.2</td>\n",
              "      <td>0</td>\n",
              "    </tr>\n",
              "    <tr>\n",
              "      <th>140</th>\n",
              "      <td>6.7</td>\n",
              "      <td>3.1</td>\n",
              "      <td>5.6</td>\n",
              "      <td>2.4</td>\n",
              "      <td>2</td>\n",
              "    </tr>\n",
              "    <tr>\n",
              "      <th>12</th>\n",
              "      <td>4.8</td>\n",
              "      <td>3.0</td>\n",
              "      <td>1.4</td>\n",
              "      <td>0.1</td>\n",
              "      <td>0</td>\n",
              "    </tr>\n",
              "    <tr>\n",
              "      <th>51</th>\n",
              "      <td>6.4</td>\n",
              "      <td>3.2</td>\n",
              "      <td>4.5</td>\n",
              "      <td>1.5</td>\n",
              "      <td>1</td>\n",
              "    </tr>\n",
              "    <tr>\n",
              "      <th>7</th>\n",
              "      <td>5.0</td>\n",
              "      <td>3.4</td>\n",
              "      <td>1.5</td>\n",
              "      <td>0.2</td>\n",
              "      <td>0</td>\n",
              "    </tr>\n",
              "  </tbody>\n",
              "</table>\n",
              "</div>"
            ],
            "text/plain": [
              "    sepal length (cm) sepal width (cm)  ... petal width (cm) Target\n",
              "57                4.9              2.4  ...              1.0      1\n",
              "85                6.0              3.4  ...              1.6      1\n",
              "26                5.0              3.4  ...              0.4      0\n",
              "90                5.5              2.6  ...              1.2      1\n",
              "25                5.0              3.0  ...              0.2      0\n",
              "24                4.8              3.4  ...              0.2      0\n",
              "140               6.7              3.1  ...              2.4      2\n",
              "12                4.8              3.0  ...              0.1      0\n",
              "51                6.4              3.2  ...              1.5      1\n",
              "7                 5.0              3.4  ...              0.2      0\n",
              "\n",
              "[10 rows x 5 columns]"
            ]
          },
          "metadata": {
            "tags": []
          },
          "execution_count": 2
        }
      ]
    },
    {
      "cell_type": "markdown",
      "metadata": {
        "id": "IWGZ57whwAMz"
      },
      "source": [
        "##Training the model"
      ]
    },
    {
      "cell_type": "code",
      "metadata": {
        "colab": {
          "base_uri": "https://localhost:8080/",
          "height": 0
        },
        "id": "A1DLgP_lddtV",
        "outputId": "7455d98d-1ebd-4989-ddf3-26eabfd23de2"
      },
      "source": [
        "from sklearn.model_selection import train_test_split\n",
        "x_train, x_test, y_train, y_test = train_test_split(x, y, test_size = 0.3, random_state = 100)\n",
        "\n",
        "print('Training dataset size:\\nx_train -', len(x_train), '\\ny_train -', len(y_train), '\\n')\n",
        "print('Testing dataset size:\\nx_test -', len(x_test), '\\ny_test -', len(y_test))"
      ],
      "execution_count": 3,
      "outputs": [
        {
          "output_type": "stream",
          "text": [
            "Training dataset size:\n",
            "x_train - 105 \n",
            "y_train - 105 \n",
            "\n",
            "Testing dataset size:\n",
            "x_test - 45 \n",
            "y_test - 45\n"
          ],
          "name": "stdout"
        }
      ]
    },
    {
      "cell_type": "code",
      "metadata": {
        "id": "TH3a9b_BeHF8"
      },
      "source": [
        "KNN = []\n",
        "for i in range(1, 8):\n",
        "  KNNModel = KNeighborsClassifier(n_neighbors=i, metric = 'euclidean')\n",
        "  KNN.append(KNNModel)"
      ],
      "execution_count": 4,
      "outputs": []
    },
    {
      "cell_type": "code",
      "metadata": {
        "id": "sOc-gC6GekZE"
      },
      "source": [
        "for i in range(7):\n",
        "  KNN[i].fit(x_train, y_train) "
      ],
      "execution_count": 5,
      "outputs": []
    },
    {
      "cell_type": "markdown",
      "metadata": {
        "id": "d2CRaaG_wJNw"
      },
      "source": [
        "##Finding Accuracies for all models using the test dataset"
      ]
    },
    {
      "cell_type": "code",
      "metadata": {
        "colab": {
          "base_uri": "https://localhost:8080/",
          "height": 0
        },
        "id": "qxTPr873erFb",
        "outputId": "b1f9b318-6166-4ded-c235-0e2c42d6c862"
      },
      "source": [
        "train_accuracyKNN = []\n",
        "test_accuracyKNN = []\n",
        "\n",
        "for i in range(7):\n",
        "  print('K = {}'.format(i + 1))\n",
        "  train_accuracyKNN.append(KNN[i].score(x_train, y_train))\n",
        "  test_accuracyKNN.append(KNN[i].score(x_test, y_test))\n",
        "  y_pred = KNN[i].predict(x_test)\n",
        "  print(\"Confusion Matrix:\\n\",confusion_matrix(y_test, y_pred))\n",
        "  print(classification_report(y_test,y_pred))\n",
        "  print(\"\\nAccuracy: %.2f\" %(accuracy_score(y_test, y_pred)*100))\n",
        "  print(\"Mean Squared Error: %.2f\" %(mean_squared_error(y_test, y_pred)*100))\n",
        "  print(\"Explained Variance: %.2f\" %(explained_variance_score(y_test, y_pred)*100))\n",
        "  print(\"R2 Score: %.2f\" %(r2_score(y_test, y_pred)*100))\n",
        "  print(\"\\n\\n\")"
      ],
      "execution_count": 6,
      "outputs": [
        {
          "output_type": "stream",
          "text": [
            "K = 1\n",
            "Confusion Matrix:\n",
            " [[16  0  0]\n",
            " [ 0 11  0]\n",
            " [ 0  1 17]]\n",
            "              precision    recall  f1-score   support\n",
            "\n",
            "           0       1.00      1.00      1.00        16\n",
            "           1       0.92      1.00      0.96        11\n",
            "           2       1.00      0.94      0.97        18\n",
            "\n",
            "    accuracy                           0.98        45\n",
            "   macro avg       0.97      0.98      0.98        45\n",
            "weighted avg       0.98      0.98      0.98        45\n",
            "\n",
            "\n",
            "Accuracy: 97.78\n",
            "Mean Squared Error: 2.22\n",
            "Explained Variance: 97.12\n",
            "R2 Score: 97.05\n",
            "\n",
            "\n",
            "\n",
            "K = 2\n",
            "Confusion Matrix:\n",
            " [[16  0  0]\n",
            " [ 0 11  0]\n",
            " [ 0  1 17]]\n",
            "              precision    recall  f1-score   support\n",
            "\n",
            "           0       1.00      1.00      1.00        16\n",
            "           1       0.92      1.00      0.96        11\n",
            "           2       1.00      0.94      0.97        18\n",
            "\n",
            "    accuracy                           0.98        45\n",
            "   macro avg       0.97      0.98      0.98        45\n",
            "weighted avg       0.98      0.98      0.98        45\n",
            "\n",
            "\n",
            "Accuracy: 97.78\n",
            "Mean Squared Error: 2.22\n",
            "Explained Variance: 97.12\n",
            "R2 Score: 97.05\n",
            "\n",
            "\n",
            "\n",
            "K = 3\n",
            "Confusion Matrix:\n",
            " [[16  0  0]\n",
            " [ 0 11  0]\n",
            " [ 0  1 17]]\n",
            "              precision    recall  f1-score   support\n",
            "\n",
            "           0       1.00      1.00      1.00        16\n",
            "           1       0.92      1.00      0.96        11\n",
            "           2       1.00      0.94      0.97        18\n",
            "\n",
            "    accuracy                           0.98        45\n",
            "   macro avg       0.97      0.98      0.98        45\n",
            "weighted avg       0.98      0.98      0.98        45\n",
            "\n",
            "\n",
            "Accuracy: 97.78\n",
            "Mean Squared Error: 2.22\n",
            "Explained Variance: 97.12\n",
            "R2 Score: 97.05\n",
            "\n",
            "\n",
            "\n",
            "K = 4\n",
            "Confusion Matrix:\n",
            " [[16  0  0]\n",
            " [ 0 11  0]\n",
            " [ 0  2 16]]\n",
            "              precision    recall  f1-score   support\n",
            "\n",
            "           0       1.00      1.00      1.00        16\n",
            "           1       0.85      1.00      0.92        11\n",
            "           2       1.00      0.89      0.94        18\n",
            "\n",
            "    accuracy                           0.96        45\n",
            "   macro avg       0.95      0.96      0.95        45\n",
            "weighted avg       0.96      0.96      0.96        45\n",
            "\n",
            "\n",
            "Accuracy: 95.56\n",
            "Mean Squared Error: 4.44\n",
            "Explained Variance: 94.36\n",
            "R2 Score: 94.10\n",
            "\n",
            "\n",
            "\n",
            "K = 5\n",
            "Confusion Matrix:\n",
            " [[16  0  0]\n",
            " [ 0 11  0]\n",
            " [ 0  1 17]]\n",
            "              precision    recall  f1-score   support\n",
            "\n",
            "           0       1.00      1.00      1.00        16\n",
            "           1       0.92      1.00      0.96        11\n",
            "           2       1.00      0.94      0.97        18\n",
            "\n",
            "    accuracy                           0.98        45\n",
            "   macro avg       0.97      0.98      0.98        45\n",
            "weighted avg       0.98      0.98      0.98        45\n",
            "\n",
            "\n",
            "Accuracy: 97.78\n",
            "Mean Squared Error: 2.22\n",
            "Explained Variance: 97.12\n",
            "R2 Score: 97.05\n",
            "\n",
            "\n",
            "\n",
            "K = 6\n",
            "Confusion Matrix:\n",
            " [[16  0  0]\n",
            " [ 0 11  0]\n",
            " [ 0  1 17]]\n",
            "              precision    recall  f1-score   support\n",
            "\n",
            "           0       1.00      1.00      1.00        16\n",
            "           1       0.92      1.00      0.96        11\n",
            "           2       1.00      0.94      0.97        18\n",
            "\n",
            "    accuracy                           0.98        45\n",
            "   macro avg       0.97      0.98      0.98        45\n",
            "weighted avg       0.98      0.98      0.98        45\n",
            "\n",
            "\n",
            "Accuracy: 97.78\n",
            "Mean Squared Error: 2.22\n",
            "Explained Variance: 97.12\n",
            "R2 Score: 97.05\n",
            "\n",
            "\n",
            "\n",
            "K = 7\n",
            "Confusion Matrix:\n",
            " [[16  0  0]\n",
            " [ 0 11  0]\n",
            " [ 0  0 18]]\n",
            "              precision    recall  f1-score   support\n",
            "\n",
            "           0       1.00      1.00      1.00        16\n",
            "           1       1.00      1.00      1.00        11\n",
            "           2       1.00      1.00      1.00        18\n",
            "\n",
            "    accuracy                           1.00        45\n",
            "   macro avg       1.00      1.00      1.00        45\n",
            "weighted avg       1.00      1.00      1.00        45\n",
            "\n",
            "\n",
            "Accuracy: 100.00\n",
            "Mean Squared Error: 0.00\n",
            "Explained Variance: 100.00\n",
            "R2 Score: 100.00\n",
            "\n",
            "\n",
            "\n"
          ],
          "name": "stdout"
        }
      ]
    },
    {
      "cell_type": "code",
      "metadata": {
        "colab": {
          "base_uri": "https://localhost:8080/",
          "height": 295
        },
        "id": "7PSY4-4Le4L-",
        "outputId": "5131d8f3-75eb-45ac-c243-e5def9f1b4b9"
      },
      "source": [
        "fig = plt.figure()\n",
        "ax = plt.axes()\n",
        "plt.plot([1,2,3,4,5,6,7], train_accuracyKNN, label = 'Training Accuracy')\n",
        "plt.plot([1,2,3,4,5,6,7], test_accuracyKNN, label = 'Testing Accuracy')\n",
        "plt.xlabel('K (number of neighbours)')\n",
        "plt.ylabel('Mean accuracy')\n",
        "plt.title('Accuracy vs K')\n",
        "plt.legend()\n",
        "plt.savefig('Graph.png')\n",
        "plt.show()"
      ],
      "execution_count": 7,
      "outputs": [
        {
          "output_type": "display_data",
          "data": {
            "image/png": "[encoded data removed]",
            "text/plain": [
              "<Figure size 432x288 with 1 Axes>"
            ]
          },
          "metadata": {
            "tags": [],
            "needs_background": "light"
          }
        }
      ]
    },
    {
      "cell_type": "code",
      "metadata": {
        "id": "rYVd0YvyfSWP"
      },
      "source": [
        ""
      ],
      "execution_count": 7,
      "outputs": []
    }
  ]
}