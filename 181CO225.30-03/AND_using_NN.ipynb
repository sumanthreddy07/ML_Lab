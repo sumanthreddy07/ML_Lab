{
  "nbformat": 4,
  "nbformat_minor": 0,
  "metadata": {
    "colab": {
      "name": "AND_using_NN",
      "provenance": [],
      "collapsed_sections": []
    },
    "kernelspec": {
      "name": "python3",
      "display_name": "Python 3"
    },
    "language_info": {
      "name": "python"
    }
  },
  "cells": [
    {
      "cell_type": "markdown",
      "metadata": {
        "id": "fxyit-HGU3eI"
      },
      "source": [
        "<center>\n",
        "\n",
        "#<b>CS353 ML Lab 8</b>\n",
        "\n",
        "## Name: K V Sumanth Reddy\n",
        "## Roll No: 181CO225\n",
        "### Batch: Section 2\n",
        "### Date: 30/03/2021\n",
        "---\n",
        "###Q: Implementation of <b>AND Gate using Artificial Neural Network</b>. To understand the working of neural networks using AND Gates implemented through neural network.\n",
        "---\n",
        "</center>"
      ]
    },
    {
      "cell_type": "markdown",
      "metadata": {
        "id": "Da8GL09nejKS"
      },
      "source": [
        "###<b>Import Libraries"
      ]
    },
    {
      "cell_type": "code",
      "metadata": {
        "id": "LstBewdfU2xu"
      },
      "source": [
        "import numpy as np\n",
        "import matplotlib.pyplot as plt\n",
        "import pandas as pd"
      ],
      "execution_count": 1,
      "outputs": []
    },
    {
      "cell_type": "code",
      "metadata": {
        "id": "7lylOqUvi3z5"
      },
      "source": [
        "from sklearn.metrics import accuracy_score,precision_score,recall_score,f1_score\n",
        "from keras import models, layers, losses, optimizers, metrics"
      ],
      "execution_count": 2,
      "outputs": []
    },
    {
      "cell_type": "markdown",
      "metadata": {
        "id": "wxCnqyW2eryB"
      },
      "source": [
        "###<b>Making a Dataset"
      ]
    },
    {
      "cell_type": "code",
      "metadata": {
        "id": "pAABkVLkdXa8"
      },
      "source": [
        "x = np.random.randint(0,2,(8000,2))\n",
        "y = x[:,0]*x[:,1]"
      ],
      "execution_count": 3,
      "outputs": []
    },
    {
      "cell_type": "code",
      "metadata": {
        "id": "6cAduImTjSM8"
      },
      "source": [
        "from sklearn.model_selection import train_test_split\n",
        "x_train,x_test,y_train,y_test=train_test_split(x,y, test_size = 0.20, random_state = 0)"
      ],
      "execution_count": 4,
      "outputs": []
    },
    {
      "cell_type": "markdown",
      "metadata": {
        "id": "xtVPNZqoez0A"
      },
      "source": [
        "###<b>Neural Network"
      ]
    },
    {
      "cell_type": "code",
      "metadata": {
        "id": "MkqDwE1Ndaot"
      },
      "source": [
        "model = models.Sequential()\n",
        "model.add(layers.Dense(1, input_shape=(2,), activation='sigmoid'))\n",
        "model.compile(loss='mean_squared_error', optimizer='adam', \n",
        "              metrics=[metrics.categorical_accuracy])"
      ],
      "execution_count": 5,
      "outputs": []
    },
    {
      "cell_type": "code",
      "metadata": {
        "id": "2M6Myn3Vdai-",
        "colab": {
          "base_uri": "https://localhost:8080/"
        },
        "outputId": "d2257ccb-2caf-4bc6-bd2c-3b7c7bfac718"
      },
      "source": [
        "result = model.fit(x_train, y_train, validation_split=(0.2), \n",
        "                   batch_size=100, epochs=30, verbose=1)"
      ],
      "execution_count": 6,
      "outputs": [
        {
          "output_type": "stream",
          "text": [
            "Epoch 1/30\n",
            "52/52 [==============================] - 1s 11ms/step - loss: 0.2869 - categorical_accuracy: 1.0000 - val_loss: 0.2883 - val_categorical_accuracy: 1.0000\n",
            "Epoch 2/30\n",
            "52/52 [==============================] - 0s 2ms/step - loss: 0.2779 - categorical_accuracy: 1.0000 - val_loss: 0.2816 - val_categorical_accuracy: 1.0000\n",
            "Epoch 3/30\n",
            "52/52 [==============================] - 0s 2ms/step - loss: 0.2720 - categorical_accuracy: 1.0000 - val_loss: 0.2748 - val_categorical_accuracy: 1.0000\n",
            "Epoch 4/30\n",
            "52/52 [==============================] - 0s 2ms/step - loss: 0.2632 - categorical_accuracy: 1.0000 - val_loss: 0.2681 - val_categorical_accuracy: 1.0000\n",
            "Epoch 5/30\n",
            "52/52 [==============================] - 0s 2ms/step - loss: 0.2579 - categorical_accuracy: 1.0000 - val_loss: 0.2612 - val_categorical_accuracy: 1.0000\n",
            "Epoch 6/30\n",
            "52/52 [==============================] - 0s 3ms/step - loss: 0.2561 - categorical_accuracy: 1.0000 - val_loss: 0.2544 - val_categorical_accuracy: 1.0000\n",
            "Epoch 7/30\n",
            "52/52 [==============================] - 0s 2ms/step - loss: 0.2515 - categorical_accuracy: 1.0000 - val_loss: 0.2478 - val_categorical_accuracy: 1.0000\n",
            "Epoch 8/30\n",
            "52/52 [==============================] - 0s 2ms/step - loss: 0.2384 - categorical_accuracy: 1.0000 - val_loss: 0.2413 - val_categorical_accuracy: 1.0000\n",
            "Epoch 9/30\n",
            "52/52 [==============================] - 0s 2ms/step - loss: 0.2325 - categorical_accuracy: 1.0000 - val_loss: 0.2347 - val_categorical_accuracy: 1.0000\n",
            "Epoch 10/30\n",
            "52/52 [==============================] - 0s 2ms/step - loss: 0.2271 - categorical_accuracy: 1.0000 - val_loss: 0.2285 - val_categorical_accuracy: 1.0000\n",
            "Epoch 11/30\n",
            "52/52 [==============================] - 0s 2ms/step - loss: 0.2197 - categorical_accuracy: 1.0000 - val_loss: 0.2224 - val_categorical_accuracy: 1.0000\n",
            "Epoch 12/30\n",
            "52/52 [==============================] - 0s 2ms/step - loss: 0.2143 - categorical_accuracy: 1.0000 - val_loss: 0.2164 - val_categorical_accuracy: 1.0000\n",
            "Epoch 13/30\n",
            "52/52 [==============================] - 0s 2ms/step - loss: 0.2128 - categorical_accuracy: 1.0000 - val_loss: 0.2106 - val_categorical_accuracy: 1.0000\n",
            "Epoch 14/30\n",
            "52/52 [==============================] - 0s 2ms/step - loss: 0.2072 - categorical_accuracy: 1.0000 - val_loss: 0.2052 - val_categorical_accuracy: 1.0000\n",
            "Epoch 15/30\n",
            "52/52 [==============================] - 0s 2ms/step - loss: 0.1999 - categorical_accuracy: 1.0000 - val_loss: 0.1997 - val_categorical_accuracy: 1.0000\n",
            "Epoch 16/30\n",
            "52/52 [==============================] - 0s 2ms/step - loss: 0.1951 - categorical_accuracy: 1.0000 - val_loss: 0.1945 - val_categorical_accuracy: 1.0000\n",
            "Epoch 17/30\n",
            "52/52 [==============================] - 0s 2ms/step - loss: 0.1917 - categorical_accuracy: 1.0000 - val_loss: 0.1897 - val_categorical_accuracy: 1.0000\n",
            "Epoch 18/30\n",
            "52/52 [==============================] - 0s 2ms/step - loss: 0.1837 - categorical_accuracy: 1.0000 - val_loss: 0.1850 - val_categorical_accuracy: 1.0000\n",
            "Epoch 19/30\n",
            "52/52 [==============================] - 0s 2ms/step - loss: 0.1807 - categorical_accuracy: 1.0000 - val_loss: 0.1806 - val_categorical_accuracy: 1.0000\n",
            "Epoch 20/30\n",
            "52/52 [==============================] - 0s 2ms/step - loss: 0.1776 - categorical_accuracy: 1.0000 - val_loss: 0.1763 - val_categorical_accuracy: 1.0000\n",
            "Epoch 21/30\n",
            "52/52 [==============================] - 0s 2ms/step - loss: 0.1716 - categorical_accuracy: 1.0000 - val_loss: 0.1722 - val_categorical_accuracy: 1.0000\n",
            "Epoch 22/30\n",
            "52/52 [==============================] - 0s 2ms/step - loss: 0.1682 - categorical_accuracy: 1.0000 - val_loss: 0.1683 - val_categorical_accuracy: 1.0000\n",
            "Epoch 23/30\n",
            "52/52 [==============================] - 0s 3ms/step - loss: 0.1636 - categorical_accuracy: 1.0000 - val_loss: 0.1644 - val_categorical_accuracy: 1.0000\n",
            "Epoch 24/30\n",
            "52/52 [==============================] - 0s 2ms/step - loss: 0.1616 - categorical_accuracy: 1.0000 - val_loss: 0.1607 - val_categorical_accuracy: 1.0000\n",
            "Epoch 25/30\n",
            "52/52 [==============================] - 0s 2ms/step - loss: 0.1613 - categorical_accuracy: 1.0000 - val_loss: 0.1572 - val_categorical_accuracy: 1.0000\n",
            "Epoch 26/30\n",
            "52/52 [==============================] - 0s 2ms/step - loss: 0.1542 - categorical_accuracy: 1.0000 - val_loss: 0.1538 - val_categorical_accuracy: 1.0000\n",
            "Epoch 27/30\n",
            "52/52 [==============================] - 0s 2ms/step - loss: 0.1511 - categorical_accuracy: 1.0000 - val_loss: 0.1505 - val_categorical_accuracy: 1.0000\n",
            "Epoch 28/30\n",
            "52/52 [==============================] - 0s 2ms/step - loss: 0.1493 - categorical_accuracy: 1.0000 - val_loss: 0.1472 - val_categorical_accuracy: 1.0000\n",
            "Epoch 29/30\n",
            "52/52 [==============================] - 0s 2ms/step - loss: 0.1445 - categorical_accuracy: 1.0000 - val_loss: 0.1442 - val_categorical_accuracy: 1.0000\n",
            "Epoch 30/30\n",
            "52/52 [==============================] - 0s 2ms/step - loss: 0.1433 - categorical_accuracy: 1.0000 - val_loss: 0.1412 - val_categorical_accuracy: 1.0000\n"
          ],
          "name": "stdout"
        }
      ]
    },
    {
      "cell_type": "code",
      "metadata": {
        "id": "92PxhYqTdage",
        "colab": {
          "base_uri": "https://localhost:8080/"
        },
        "outputId": "d8e8e655-d84f-483f-bea8-5e2428e99d8f"
      },
      "source": [
        "output = model.evaluate(x_test,y_test)"
      ],
      "execution_count": 7,
      "outputs": [
        {
          "output_type": "stream",
          "text": [
            "50/50 [==============================] - 0s 1ms/step - loss: 0.1377 - categorical_accuracy: 1.0000\n"
          ],
          "name": "stdout"
        }
      ]
    },
    {
      "cell_type": "markdown",
      "metadata": {
        "id": "jLu0hC2pwuip"
      },
      "source": [
        "###<b>Predictions"
      ]
    },
    {
      "cell_type": "code",
      "metadata": {
        "id": "bBXZ21Lpdabj"
      },
      "source": [
        "y_pred=model.predict(x_test).round()"
      ],
      "execution_count": 8,
      "outputs": []
    },
    {
      "cell_type": "code",
      "metadata": {
        "id": "psZDi5qVdaeI",
        "colab": {
          "base_uri": "https://localhost:8080/"
        },
        "outputId": "56c4c320-d0b7-4fc9-d0f7-109cfaa8cd54"
      },
      "source": [
        "model.predict([[0,0]]).round()"
      ],
      "execution_count": 9,
      "outputs": [
        {
          "output_type": "execute_result",
          "data": {
            "text/plain": [
              "array([[0.]], dtype=float32)"
            ]
          },
          "metadata": {
            "tags": []
          },
          "execution_count": 9
        }
      ]
    },
    {
      "cell_type": "code",
      "metadata": {
        "colab": {
          "base_uri": "https://localhost:8080/"
        },
        "id": "sHfModdDkj2Y",
        "outputId": "7a0557da-b524-4cce-824d-b70acbc0f614"
      },
      "source": [
        "model.predict([[0,1]]).round()"
      ],
      "execution_count": 10,
      "outputs": [
        {
          "output_type": "execute_result",
          "data": {
            "text/plain": [
              "array([[0.]], dtype=float32)"
            ]
          },
          "metadata": {
            "tags": []
          },
          "execution_count": 10
        }
      ]
    },
    {
      "cell_type": "code",
      "metadata": {
        "colab": {
          "base_uri": "https://localhost:8080/"
        },
        "id": "TSIStPhQklXA",
        "outputId": "cb4f41a7-8543-4b48-a61e-7f0f73af6d19"
      },
      "source": [
        "model.predict([[1,0]]).round()"
      ],
      "execution_count": 11,
      "outputs": [
        {
          "output_type": "execute_result",
          "data": {
            "text/plain": [
              "array([[0.]], dtype=float32)"
            ]
          },
          "metadata": {
            "tags": []
          },
          "execution_count": 11
        }
      ]
    },
    {
      "cell_type": "code",
      "metadata": {
        "colab": {
          "base_uri": "https://localhost:8080/"
        },
        "id": "0VWfJKT6km5j",
        "outputId": "54e6437b-7bc2-452b-e3e6-26f242f828ea"
      },
      "source": [
        "model.predict([[1,1]]).round()"
      ],
      "execution_count": 12,
      "outputs": [
        {
          "output_type": "execute_result",
          "data": {
            "text/plain": [
              "array([[1.]], dtype=float32)"
            ]
          },
          "metadata": {
            "tags": []
          },
          "execution_count": 12
        }
      ]
    },
    {
      "cell_type": "markdown",
      "metadata": {
        "id": "HRMwCFDOgMut"
      },
      "source": [
        "###<b>Results"
      ]
    },
    {
      "cell_type": "markdown",
      "metadata": {
        "id": "HoddhMhfl6rR"
      },
      "source": [
        "**Accuracy**: \n",
        "$$\\frac {TP+TN}{P+N}$$\n",
        "\n",
        "\n",
        "**Precision**: $$\\frac {TP}{TP+FP}$$\n",
        "\n",
        "**Root Mean Squared Error**: $$\\frac {TP}{TP+FN}$$\n",
        "\n",
        "**F1 Score**: $$\\frac {2TP}{2TP + FP+FN}$$"
      ]
    },
    {
      "cell_type": "code",
      "metadata": {
        "colab": {
          "base_uri": "https://localhost:8080/"
        },
        "id": "nf82_qpkku1J",
        "outputId": "3b2f0597-b235-4069-ce2b-ef935b749581"
      },
      "source": [
        "accuracy = accuracy_score(y_test, y_pred)\n",
        "print('Accuracy: %f' % accuracy)\n",
        "\n",
        "precision = precision_score(y_test, y_pred)\n",
        "print('Precision: %f' % precision)\n",
        "\n",
        "recall = recall_score(y_test, y_pred)\n",
        "print('Recall: %f' % recall)\n",
        "\n",
        "f1 = f1_score(y_test, y_pred)\n",
        "print('F1 score: %f' % f1)"
      ],
      "execution_count": 13,
      "outputs": [
        {
          "output_type": "stream",
          "text": [
            "Accuracy: 1.000000\n",
            "Precision: 1.000000\n",
            "Recall: 1.000000\n",
            "F1 score: 1.000000\n"
          ],
          "name": "stdout"
        }
      ]
    },
    {
      "cell_type": "code",
      "metadata": {
        "id": "xFi3hjutvx_L"
      },
      "source": [
        ""
      ],
      "execution_count": 13,
      "outputs": []
    }
  ]
}