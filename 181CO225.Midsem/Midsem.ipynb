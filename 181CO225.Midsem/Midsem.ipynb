{
  "nbformat": 4,
  "nbformat_minor": 0,
  "metadata": {
    "colab": {
      "name": "Midsem",
      "provenance": [],
      "toc_visible": true
    },
    "kernelspec": {
      "name": "python3",
      "display_name": "Python 3"
    }
  },
  "cells": [
    {
      "cell_type": "markdown",
      "metadata": {
        "id": "mC4Dwq94JRnW"
      },
      "source": [
        "<center>\n",
        "\n",
        "#<b>CS353 ML Lab MidSem</b>\n",
        "\n",
        "## Name: K V Sumanth Reddy\n",
        "## Roll No: 181CO225\n",
        "### Batch: Section-2\n",
        "### Date: 09/03/2021\n",
        "---\n",
        "###Q: Build a K-nearest neighbor algorithm to predict whether a patient is having cancer (Malignant tumor) or not (Benign tumor). Use Kaggle dataset from UCI Machine Learning Repository.\n",
        "---\n",
        "####<b>Dataset Used:</b> Breast Cancer Wisconsin (Diagnostic) Data Set (https://www.kaggle.com/uciml/breast-cancer-wisconsin-data)\n",
        "</center>"
      ]
    },
    {
      "cell_type": "markdown",
      "metadata": {
        "id": "Xkq0_NRzJ-Qx"
      },
      "source": [
        "##Importing Libraries and Dataset"
      ]
    },
    {
      "cell_type": "code",
      "metadata": {
        "id": "JH0rc27hHqnl"
      },
      "source": [
        "import numpy as np\n",
        "import matplotlib.pyplot as plt\n",
        "import pandas as pd\n",
        "\n",
        "from sklearn.neighbors import KNeighborsClassifier\n",
        "\n",
        "from sklearn.metrics import confusion_matrix,explained_variance_score\n",
        "from sklearn.metrics import mean_squared_error,r2_score\n",
        "from sklearn.metrics import accuracy_score, classification_report\n"
      ],
      "execution_count": null,
      "outputs": []
    },
    {
      "cell_type": "code",
      "metadata": {
        "colab": {
          "base_uri": "https://localhost:8080/",
          "height": 238
        },
        "id": "q-LSUmpBLM91",
        "outputId": "7201a522-8a2a-48c9-d082-57d17f6a98f1"
      },
      "source": [
        "dataset = pd.read_csv('data.csv')\n",
        "\n",
        "#printing 5 sample tuples\n",
        "dataset.sample(5)"
      ],
      "execution_count": null,
      "outputs": [
        {
          "output_type": "execute_result",
          "data": {
            "text/html": [
              "<div>\n",
              "<style scoped>\n",
              "    .dataframe tbody tr th:only-of-type {\n",
              "        vertical-align: middle;\n",
              "    }\n",
              "\n",
              "    .dataframe tbody tr th {\n",
              "        vertical-align: top;\n",
              "    }\n",
              "\n",
              "    .dataframe thead th {\n",
              "        text-align: right;\n",
              "    }\n",
              "</style>\n",
              "<table border=\"1\" class=\"dataframe\">\n",
              "  <thead>\n",
              "    <tr style=\"text-align: right;\">\n",
              "      <th></th>\n",
              "      <th>id</th>\n",
              "      <th>diagnosis</th>\n",
              "      <th>radius_mean</th>\n",
              "      <th>texture_mean</th>\n",
              "      <th>perimeter_mean</th>\n",
              "      <th>area_mean</th>\n",
              "      <th>smoothness_mean</th>\n",
              "      <th>compactness_mean</th>\n",
              "      <th>concavity_mean</th>\n",
              "      <th>concave points_mean</th>\n",
              "      <th>symmetry_mean</th>\n",
              "      <th>fractal_dimension_mean</th>\n",
              "      <th>radius_se</th>\n",
              "      <th>texture_se</th>\n",
              "      <th>perimeter_se</th>\n",
              "      <th>area_se</th>\n",
              "      <th>smoothness_se</th>\n",
              "      <th>compactness_se</th>\n",
              "      <th>concavity_se</th>\n",
              "      <th>concave points_se</th>\n",
              "      <th>symmetry_se</th>\n",
              "      <th>fractal_dimension_se</th>\n",
              "      <th>radius_worst</th>\n",
              "      <th>texture_worst</th>\n",
              "      <th>perimeter_worst</th>\n",
              "      <th>area_worst</th>\n",
              "      <th>smoothness_worst</th>\n",
              "      <th>compactness_worst</th>\n",
              "      <th>concavity_worst</th>\n",
              "      <th>concave points_worst</th>\n",
              "      <th>symmetry_worst</th>\n",
              "      <th>fractal_dimension_worst</th>\n",
              "      <th>Unnamed: 32</th>\n",
              "    </tr>\n",
              "  </thead>\n",
              "  <tbody>\n",
              "    <tr>\n",
              "      <th>312</th>\n",
              "      <td>89382602</td>\n",
              "      <td>B</td>\n",
              "      <td>12.76</td>\n",
              "      <td>13.37</td>\n",
              "      <td>82.29</td>\n",
              "      <td>504.1</td>\n",
              "      <td>0.08794</td>\n",
              "      <td>0.07948</td>\n",
              "      <td>0.040520</td>\n",
              "      <td>0.025480</td>\n",
              "      <td>0.1601</td>\n",
              "      <td>0.06140</td>\n",
              "      <td>0.3265</td>\n",
              "      <td>0.6594</td>\n",
              "      <td>2.346</td>\n",
              "      <td>25.18</td>\n",
              "      <td>0.006494</td>\n",
              "      <td>0.027680</td>\n",
              "      <td>0.031370</td>\n",
              "      <td>0.010690</td>\n",
              "      <td>0.01731</td>\n",
              "      <td>0.004392</td>\n",
              "      <td>14.19</td>\n",
              "      <td>16.40</td>\n",
              "      <td>92.04</td>\n",
              "      <td>618.8</td>\n",
              "      <td>0.1194</td>\n",
              "      <td>0.22080</td>\n",
              "      <td>0.176900</td>\n",
              "      <td>0.08411</td>\n",
              "      <td>0.2564</td>\n",
              "      <td>0.08253</td>\n",
              "      <td>NaN</td>\n",
              "    </tr>\n",
              "    <tr>\n",
              "      <th>200</th>\n",
              "      <td>877501</td>\n",
              "      <td>B</td>\n",
              "      <td>12.23</td>\n",
              "      <td>19.56</td>\n",
              "      <td>78.54</td>\n",
              "      <td>461.0</td>\n",
              "      <td>0.09586</td>\n",
              "      <td>0.08087</td>\n",
              "      <td>0.041870</td>\n",
              "      <td>0.041070</td>\n",
              "      <td>0.1979</td>\n",
              "      <td>0.06013</td>\n",
              "      <td>0.3534</td>\n",
              "      <td>1.3260</td>\n",
              "      <td>2.308</td>\n",
              "      <td>27.24</td>\n",
              "      <td>0.007514</td>\n",
              "      <td>0.017790</td>\n",
              "      <td>0.014010</td>\n",
              "      <td>0.011400</td>\n",
              "      <td>0.01503</td>\n",
              "      <td>0.003338</td>\n",
              "      <td>14.44</td>\n",
              "      <td>28.36</td>\n",
              "      <td>92.15</td>\n",
              "      <td>638.4</td>\n",
              "      <td>0.1429</td>\n",
              "      <td>0.20420</td>\n",
              "      <td>0.137700</td>\n",
              "      <td>0.10800</td>\n",
              "      <td>0.2668</td>\n",
              "      <td>0.08174</td>\n",
              "      <td>NaN</td>\n",
              "    </tr>\n",
              "    <tr>\n",
              "      <th>10</th>\n",
              "      <td>845636</td>\n",
              "      <td>M</td>\n",
              "      <td>16.02</td>\n",
              "      <td>23.24</td>\n",
              "      <td>102.70</td>\n",
              "      <td>797.8</td>\n",
              "      <td>0.08206</td>\n",
              "      <td>0.06669</td>\n",
              "      <td>0.032990</td>\n",
              "      <td>0.033230</td>\n",
              "      <td>0.1528</td>\n",
              "      <td>0.05697</td>\n",
              "      <td>0.3795</td>\n",
              "      <td>1.1870</td>\n",
              "      <td>2.466</td>\n",
              "      <td>40.51</td>\n",
              "      <td>0.004029</td>\n",
              "      <td>0.009269</td>\n",
              "      <td>0.011010</td>\n",
              "      <td>0.007591</td>\n",
              "      <td>0.01460</td>\n",
              "      <td>0.003042</td>\n",
              "      <td>19.19</td>\n",
              "      <td>33.88</td>\n",
              "      <td>123.80</td>\n",
              "      <td>1150.0</td>\n",
              "      <td>0.1181</td>\n",
              "      <td>0.15510</td>\n",
              "      <td>0.145900</td>\n",
              "      <td>0.09975</td>\n",
              "      <td>0.2948</td>\n",
              "      <td>0.08452</td>\n",
              "      <td>NaN</td>\n",
              "    </tr>\n",
              "    <tr>\n",
              "      <th>526</th>\n",
              "      <td>91813701</td>\n",
              "      <td>B</td>\n",
              "      <td>13.46</td>\n",
              "      <td>18.75</td>\n",
              "      <td>87.44</td>\n",
              "      <td>551.1</td>\n",
              "      <td>0.10750</td>\n",
              "      <td>0.11380</td>\n",
              "      <td>0.042010</td>\n",
              "      <td>0.031520</td>\n",
              "      <td>0.1723</td>\n",
              "      <td>0.06317</td>\n",
              "      <td>0.1998</td>\n",
              "      <td>0.6068</td>\n",
              "      <td>1.443</td>\n",
              "      <td>16.07</td>\n",
              "      <td>0.004413</td>\n",
              "      <td>0.014430</td>\n",
              "      <td>0.015090</td>\n",
              "      <td>0.007369</td>\n",
              "      <td>0.01354</td>\n",
              "      <td>0.001787</td>\n",
              "      <td>15.35</td>\n",
              "      <td>25.16</td>\n",
              "      <td>101.90</td>\n",
              "      <td>719.8</td>\n",
              "      <td>0.1624</td>\n",
              "      <td>0.31240</td>\n",
              "      <td>0.265400</td>\n",
              "      <td>0.14270</td>\n",
              "      <td>0.3518</td>\n",
              "      <td>0.08665</td>\n",
              "      <td>NaN</td>\n",
              "    </tr>\n",
              "    <tr>\n",
              "      <th>333</th>\n",
              "      <td>897137</td>\n",
              "      <td>B</td>\n",
              "      <td>11.25</td>\n",
              "      <td>14.78</td>\n",
              "      <td>71.38</td>\n",
              "      <td>390.0</td>\n",
              "      <td>0.08306</td>\n",
              "      <td>0.04458</td>\n",
              "      <td>0.000974</td>\n",
              "      <td>0.002941</td>\n",
              "      <td>0.1773</td>\n",
              "      <td>0.06081</td>\n",
              "      <td>0.2144</td>\n",
              "      <td>0.9961</td>\n",
              "      <td>1.529</td>\n",
              "      <td>15.07</td>\n",
              "      <td>0.005617</td>\n",
              "      <td>0.007124</td>\n",
              "      <td>0.000974</td>\n",
              "      <td>0.002941</td>\n",
              "      <td>0.01700</td>\n",
              "      <td>0.002030</td>\n",
              "      <td>12.76</td>\n",
              "      <td>22.06</td>\n",
              "      <td>82.08</td>\n",
              "      <td>492.7</td>\n",
              "      <td>0.1166</td>\n",
              "      <td>0.09794</td>\n",
              "      <td>0.005518</td>\n",
              "      <td>0.01667</td>\n",
              "      <td>0.2815</td>\n",
              "      <td>0.07418</td>\n",
              "      <td>NaN</td>\n",
              "    </tr>\n",
              "  </tbody>\n",
              "</table>\n",
              "</div>"
            ],
            "text/plain": [
              "           id diagnosis  ...  fractal_dimension_worst  Unnamed: 32\n",
              "312  89382602         B  ...                  0.08253          NaN\n",
              "200    877501         B  ...                  0.08174          NaN\n",
              "10     845636         M  ...                  0.08452          NaN\n",
              "526  91813701         B  ...                  0.08665          NaN\n",
              "333    897137         B  ...                  0.07418          NaN\n",
              "\n",
              "[5 rows x 33 columns]"
            ]
          },
          "metadata": {
            "tags": []
          },
          "execution_count": 2
        }
      ]
    },
    {
      "cell_type": "code",
      "metadata": {
        "colab": {
          "base_uri": "https://localhost:8080/"
        },
        "id": "mSe8u8Q7LW59",
        "outputId": "2b83bac3-0f68-4cc1-90b1-22d84815bccf"
      },
      "source": [
        "dataset.info()"
      ],
      "execution_count": null,
      "outputs": [
        {
          "output_type": "stream",
          "text": [
            "<class 'pandas.core.frame.DataFrame'>\n",
            "RangeIndex: 569 entries, 0 to 568\n",
            "Data columns (total 33 columns):\n",
            " #   Column                   Non-Null Count  Dtype  \n",
            "---  ------                   --------------  -----  \n",
            " 0   id                       569 non-null    int64  \n",
            " 1   diagnosis                569 non-null    object \n",
            " 2   radius_mean              569 non-null    float64\n",
            " 3   texture_mean             569 non-null    float64\n",
            " 4   perimeter_mean           569 non-null    float64\n",
            " 5   area_mean                569 non-null    float64\n",
            " 6   smoothness_mean          569 non-null    float64\n",
            " 7   compactness_mean         569 non-null    float64\n",
            " 8   concavity_mean           569 non-null    float64\n",
            " 9   concave points_mean      569 non-null    float64\n",
            " 10  symmetry_mean            569 non-null    float64\n",
            " 11  fractal_dimension_mean   569 non-null    float64\n",
            " 12  radius_se                569 non-null    float64\n",
            " 13  texture_se               569 non-null    float64\n",
            " 14  perimeter_se             569 non-null    float64\n",
            " 15  area_se                  569 non-null    float64\n",
            " 16  smoothness_se            569 non-null    float64\n",
            " 17  compactness_se           569 non-null    float64\n",
            " 18  concavity_se             569 non-null    float64\n",
            " 19  concave points_se        569 non-null    float64\n",
            " 20  symmetry_se              569 non-null    float64\n",
            " 21  fractal_dimension_se     569 non-null    float64\n",
            " 22  radius_worst             569 non-null    float64\n",
            " 23  texture_worst            569 non-null    float64\n",
            " 24  perimeter_worst          569 non-null    float64\n",
            " 25  area_worst               569 non-null    float64\n",
            " 26  smoothness_worst         569 non-null    float64\n",
            " 27  compactness_worst        569 non-null    float64\n",
            " 28  concavity_worst          569 non-null    float64\n",
            " 29  concave points_worst     569 non-null    float64\n",
            " 30  symmetry_worst           569 non-null    float64\n",
            " 31  fractal_dimension_worst  569 non-null    float64\n",
            " 32  Unnamed: 32              0 non-null      float64\n",
            "dtypes: float64(31), int64(1), object(1)\n",
            "memory usage: 146.8+ KB\n"
          ],
          "name": "stdout"
        }
      ]
    },
    {
      "cell_type": "markdown",
      "metadata": {
        "id": "VfPXT16dKBgF"
      },
      "source": [
        "##Data Preprocessing"
      ]
    },
    {
      "cell_type": "code",
      "metadata": {
        "id": "oh0vvsjePQ4X"
      },
      "source": [
        "# Drop unused columns and encoding M to 0 and B to 1\n",
        "columns = ['Unnamed: 32', 'id', 'diagnosis']\n",
        "data = {'M': 0, 'B': 1}\n",
        "\n",
        "y = dataset['diagnosis'].map(data)\n",
        "x = dataset.drop(columns, axis=1)"
      ],
      "execution_count": null,
      "outputs": []
    },
    {
      "cell_type": "code",
      "metadata": {
        "colab": {
          "base_uri": "https://localhost:8080/"
        },
        "id": "RTe6gqrHIL2Y",
        "outputId": "89f30a10-0c3a-4a78-8be5-62108f6cd2f7"
      },
      "source": [
        "from sklearn.model_selection import train_test_split\n",
        "x_train, x_test, y_train, y_test = train_test_split(x, y, test_size = 0.2, random_state = 99)\n",
        "\n",
        "print('Training dataset size:\\nx_train -', len(x_train), '\\ny_train -', len(y_train), '\\n')\n",
        "print('Testing dataset size:\\nx_test -', len(x_test), '\\ny_test -', len(y_test))"
      ],
      "execution_count": null,
      "outputs": [
        {
          "output_type": "stream",
          "text": [
            "Training dataset size:\n",
            "x_train - 455 \n",
            "y_train - 455 \n",
            "\n",
            "Testing dataset size:\n",
            "x_test - 114 \n",
            "y_test - 114\n"
          ],
          "name": "stdout"
        }
      ]
    },
    {
      "cell_type": "code",
      "metadata": {
        "id": "TH3a9b_BeHF8"
      },
      "source": [
        "KNN = []\n",
        "for i in range(1, 8):\n",
        "  KNNModel = KNeighborsClassifier(n_neighbors = i, metric = 'euclidean')\n",
        "  KNN.append(KNNModel)"
      ],
      "execution_count": null,
      "outputs": []
    },
    {
      "cell_type": "code",
      "metadata": {
        "id": "sOc-gC6GekZE"
      },
      "source": [
        "for i in range(7):\n",
        "  KNN[i].fit(x_train, y_train) "
      ],
      "execution_count": null,
      "outputs": []
    },
    {
      "cell_type": "markdown",
      "metadata": {
        "id": "d2CRaaG_wJNw"
      },
      "source": [
        "##Finding Accuracies for all models using the test dataset"
      ]
    },
    {
      "cell_type": "code",
      "metadata": {
        "colab": {
          "base_uri": "https://localhost:8080/"
        },
        "id": "qxTPr873erFb",
        "outputId": "c4acbc71-4cf8-4242-9706-9aa29e33aa0e"
      },
      "source": [
        "train_accuracyKNN = []    #store training accuracies\n",
        "test_accuracyKNN = []     #store testing accuracies\n",
        "\n",
        "for i in range(7):\n",
        "  print(\"--------------------------------\")\n",
        "  print('K = {}'.format(i + 1))\n",
        "  train_accuracyKNN.append(KNN[i].score(x_train, y_train))\n",
        "  test_accuracyKNN.append(KNN[i].score(x_test, y_test))\n",
        "  y_pred = KNN[i].predict(x_test)\n",
        "\n",
        "  print(\"Confusion Matrix:\\n\",confusion_matrix(y_test, y_pred))\n",
        "  print(classification_report(y_test,y_pred))\n",
        "  print(\"\\nAccuracy: %.2f\" %(accuracy_score(y_test, y_pred)*100))\n",
        "  print(\"Mean Squared Error: %.2f\" %(mean_squared_error(y_test, y_pred)*100))\n",
        "  print(\"Explained Variance: %.2f\" %(explained_variance_score(y_test, y_pred)*100))\n",
        "  print(\"R2 Score: %.2f\" %(r2_score(y_test, y_pred)*100))\n",
        "  print(\"\\n\\n\")\n",
        "  print(\"--------------------------------\")"
      ],
      "execution_count": null,
      "outputs": [
        {
          "output_type": "stream",
          "text": [
            "--------------------------------\n",
            "K = 1\n",
            "Confusion Matrix:\n",
            " [[34  4]\n",
            " [ 4 72]]\n",
            "              precision    recall  f1-score   support\n",
            "\n",
            "           0       0.89      0.89      0.89        38\n",
            "           1       0.95      0.95      0.95        76\n",
            "\n",
            "    accuracy                           0.93       114\n",
            "   macro avg       0.92      0.92      0.92       114\n",
            "weighted avg       0.93      0.93      0.93       114\n",
            "\n",
            "\n",
            "Accuracy: 92.98\n",
            "Mean Squared Error: 7.02\n",
            "Explained Variance: 68.42\n",
            "R2 Score: 68.42\n",
            "\n",
            "\n",
            "\n",
            "--------------------------------\n",
            "--------------------------------\n",
            "K = 2\n",
            "Confusion Matrix:\n",
            " [[35  3]\n",
            " [ 7 69]]\n",
            "              precision    recall  f1-score   support\n",
            "\n",
            "           0       0.83      0.92      0.88        38\n",
            "           1       0.96      0.91      0.93        76\n",
            "\n",
            "    accuracy                           0.91       114\n",
            "   macro avg       0.90      0.91      0.90       114\n",
            "weighted avg       0.92      0.91      0.91       114\n",
            "\n",
            "\n",
            "Accuracy: 91.23\n",
            "Mean Squared Error: 8.77\n",
            "Explained Variance: 61.08\n",
            "R2 Score: 60.53\n",
            "\n",
            "\n",
            "\n",
            "--------------------------------\n",
            "--------------------------------\n",
            "K = 3\n",
            "Confusion Matrix:\n",
            " [[35  3]\n",
            " [ 4 72]]\n",
            "              precision    recall  f1-score   support\n",
            "\n",
            "           0       0.90      0.92      0.91        38\n",
            "           1       0.96      0.95      0.95        76\n",
            "\n",
            "    accuracy                           0.94       114\n",
            "   macro avg       0.93      0.93      0.93       114\n",
            "weighted avg       0.94      0.94      0.94       114\n",
            "\n",
            "\n",
            "Accuracy: 93.86\n",
            "Mean Squared Error: 6.14\n",
            "Explained Variance: 72.40\n",
            "R2 Score: 72.37\n",
            "\n",
            "\n",
            "\n",
            "--------------------------------\n",
            "--------------------------------\n",
            "K = 4\n",
            "Confusion Matrix:\n",
            " [[35  3]\n",
            " [ 5 71]]\n",
            "              precision    recall  f1-score   support\n",
            "\n",
            "           0       0.88      0.92      0.90        38\n",
            "           1       0.96      0.93      0.95        76\n",
            "\n",
            "    accuracy                           0.93       114\n",
            "   macro avg       0.92      0.93      0.92       114\n",
            "weighted avg       0.93      0.93      0.93       114\n",
            "\n",
            "\n",
            "Accuracy: 92.98\n",
            "Mean Squared Error: 7.02\n",
            "Explained Variance: 68.56\n",
            "R2 Score: 68.42\n",
            "\n",
            "\n",
            "\n",
            "--------------------------------\n",
            "--------------------------------\n",
            "K = 5\n",
            "Confusion Matrix:\n",
            " [[35  3]\n",
            " [ 4 72]]\n",
            "              precision    recall  f1-score   support\n",
            "\n",
            "           0       0.90      0.92      0.91        38\n",
            "           1       0.96      0.95      0.95        76\n",
            "\n",
            "    accuracy                           0.94       114\n",
            "   macro avg       0.93      0.93      0.93       114\n",
            "weighted avg       0.94      0.94      0.94       114\n",
            "\n",
            "\n",
            "Accuracy: 93.86\n",
            "Mean Squared Error: 6.14\n",
            "Explained Variance: 72.40\n",
            "R2 Score: 72.37\n",
            "\n",
            "\n",
            "\n",
            "--------------------------------\n",
            "--------------------------------\n",
            "K = 6\n",
            "Confusion Matrix:\n",
            " [[35  3]\n",
            " [ 4 72]]\n",
            "              precision    recall  f1-score   support\n",
            "\n",
            "           0       0.90      0.92      0.91        38\n",
            "           1       0.96      0.95      0.95        76\n",
            "\n",
            "    accuracy                           0.94       114\n",
            "   macro avg       0.93      0.93      0.93       114\n",
            "weighted avg       0.94      0.94      0.94       114\n",
            "\n",
            "\n",
            "Accuracy: 93.86\n",
            "Mean Squared Error: 6.14\n",
            "Explained Variance: 72.40\n",
            "R2 Score: 72.37\n",
            "\n",
            "\n",
            "\n",
            "--------------------------------\n",
            "--------------------------------\n",
            "K = 7\n",
            "Confusion Matrix:\n",
            " [[35  3]\n",
            " [ 2 74]]\n",
            "              precision    recall  f1-score   support\n",
            "\n",
            "           0       0.95      0.92      0.93        38\n",
            "           1       0.96      0.97      0.97        76\n",
            "\n",
            "    accuracy                           0.96       114\n",
            "   macro avg       0.95      0.95      0.95       114\n",
            "weighted avg       0.96      0.96      0.96       114\n",
            "\n",
            "\n",
            "Accuracy: 95.61\n",
            "Mean Squared Error: 4.39\n",
            "Explained Variance: 80.30\n",
            "R2 Score: 80.26\n",
            "\n",
            "\n",
            "\n",
            "--------------------------------\n"
          ],
          "name": "stdout"
        }
      ]
    },
    {
      "cell_type": "markdown",
      "metadata": {
        "id": "-wM5Z_u2Y-ts"
      },
      "source": [
        "Best accuracy is at neighbours = 7 and the best mean difference between train and test accuracies is at neighbours = 3,5,6"
      ]
    },
    {
      "cell_type": "code",
      "metadata": {
        "colab": {
          "base_uri": "https://localhost:8080/",
          "height": 295
        },
        "id": "7PSY4-4Le4L-",
        "outputId": "759b2e75-7489-42f8-be0d-9e2f03c9d87c"
      },
      "source": [
        "fig = plt.figure()\n",
        "ax = plt.axes()\n",
        "plt.plot([1,2,3,4,5,6,7], train_accuracyKNN, label = 'Training Accuracy')\n",
        "plt.plot([1,2,3,4,5,6,7], test_accuracyKNN, label = 'Testing Accuracy')\n",
        "plt.xlabel('K (number of neighbours)')\n",
        "plt.ylabel('Mean accuracy')\n",
        "plt.title('Accuracy vs K')\n",
        "plt.legend()\n",
        "plt.savefig('Graph.png')\n",
        "plt.show()"
      ],
      "execution_count": null,
      "outputs": [
        {
          "output_type": "display_data",
          "data": {
            "image/png": "[encoded data removed]",
            "text/plain": [
              "<Figure size 432x288 with 1 Axes>"
            ]
          },
          "metadata": {
            "tags": [],
            "needs_background": "light"
          }
        }
      ]
    },
    {
      "cell_type": "code",
      "metadata": {
        "id": "wEbkjyk_YnT7"
      },
      "source": [
        ""
      ],
      "execution_count": null,
      "outputs": []
    }
  ]
}