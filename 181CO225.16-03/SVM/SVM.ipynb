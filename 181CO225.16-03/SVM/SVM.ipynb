{
  "nbformat": 4,
  "nbformat_minor": 0,
  "metadata": {
    "colab": {
      "name": "SVM",
      "provenance": []
    },
    "kernelspec": {
      "name": "python3",
      "display_name": "Python 3"
    }
  },
  "cells": [
    {
      "cell_type": "markdown",
      "metadata": {
        "id": "mC4Dwq94JRnW"
      },
      "source": [
        "<center>\n",
        "\n",
        "#<b>CS353 ML Lab 6</b>\n",
        "\n",
        "## Name: K V Sumanth Reddy\n",
        "## Roll No: 181CO225\n",
        "### Batch: Section-2\n",
        "### Date: 16/03/2021\n",
        "---\n",
        "###Q: Write a program to demonstrate Image Recognition. Classify the data using svm and try to identify the images present in the data set.\n",
        "---\n",
        "####<b>Dataset Used: Digits Dataset</b> \n",
        "</center>"
      ]
    },
    {
      "cell_type": "markdown",
      "metadata": {
        "id": "Xkq0_NRzJ-Qx"
      },
      "source": [
        "##<b>Importing Libraries and Dataset</b>"
      ]
    },
    {
      "cell_type": "code",
      "metadata": {
        "id": "vw5X4sY_enTI"
      },
      "source": [
        "import numpy as np\n",
        "import matplotlib.pyplot as plt\n",
        "import pandas as pd\n",
        "\n",
        "from sklearn import svm\n",
        "from sklearn import datasets\n",
        "\n",
        "from sklearn.metrics import plot_confusion_matrix,explained_variance_score\n",
        "from sklearn.metrics import mean_squared_error\n",
        "from sklearn.metrics import accuracy_score, classification_report\n"
      ],
      "execution_count": 1,
      "outputs": []
    },
    {
      "cell_type": "code",
      "metadata": {
        "colab": {
          "base_uri": "https://localhost:8080/",
          "height": 0
        },
        "id": "h8tBX-99e7Jh",
        "outputId": "32334a7e-1a45-4194-f50e-d91e8ff6022c"
      },
      "source": [
        "dataset = datasets.load_digits()\n",
        "#printing 5 sample tuples\n",
        "print(dataset.target_names)"
      ],
      "execution_count": 2,
      "outputs": [
        {
          "output_type": "stream",
          "text": [
            "[0 1 2 3 4 5 6 7 8 9]\n"
          ],
          "name": "stdout"
        }
      ]
    },
    {
      "cell_type": "code",
      "metadata": {
        "colab": {
          "base_uri": "https://localhost:8080/",
          "height": 0
        },
        "id": "zbuK9nKWfRHh",
        "outputId": "a18a088d-cf6b-4e06-9fd3-1332ea807bef"
      },
      "source": [
        "dataset.data"
      ],
      "execution_count": 3,
      "outputs": [
        {
          "output_type": "execute_result",
          "data": {
            "text/plain": [
              "array([[ 0.,  0.,  5., ...,  0.,  0.,  0.],\n",
              "       [ 0.,  0.,  0., ..., 10.,  0.,  0.],\n",
              "       [ 0.,  0.,  0., ..., 16.,  9.,  0.],\n",
              "       ...,\n",
              "       [ 0.,  0.,  1., ...,  6.,  0.,  0.],\n",
              "       [ 0.,  0.,  2., ..., 12.,  0.,  0.],\n",
              "       [ 0.,  0., 10., ..., 12.,  1.,  0.]])"
            ]
          },
          "metadata": {
            "tags": []
          },
          "execution_count": 3
        }
      ]
    },
    {
      "cell_type": "markdown",
      "metadata": {
        "id": "VfPXT16dKBgF"
      },
      "source": [
        "##<b>Data Preprocessing</b>"
      ]
    },
    {
      "cell_type": "code",
      "metadata": {
        "colab": {
          "base_uri": "https://localhost:8080/",
          "height": 223
        },
        "id": "rGQessJofd1y",
        "outputId": "73eba256-2ddf-427d-9a9e-fecc04e607d9"
      },
      "source": [
        "for i in range(0,10):\n",
        "    plt.subplot(2, 5,i + 1)\n",
        "    plt.axis('off')\n",
        "    imside = int(np.sqrt(dataset.data[i].shape[0]))\n",
        "    im1 = np.reshape(dataset.data[i],(imside,imside))\n",
        "    plt.imshow(im1, cmap=plt.cm.gray_r, interpolation='nearest')\n",
        "    plt.title('Training: {}'.format(dataset.target[i]))\n",
        "plt.show()"
      ],
      "execution_count": 4,
      "outputs": [
        {
          "output_type": "display_data",
          "data": {
            "image/png": "[encoded data removed]",
            "text/plain": [
              "<Figure size 432x288 with 10 Axes>"
            ]
          },
          "metadata": {
            "tags": [],
            "needs_background": "light"
          }
        }
      ]
    },
    {
      "cell_type": "code",
      "metadata": {
        "id": "p9QvvK0uf3yF"
      },
      "source": [
        "x = dataset.data\n",
        "y = dataset.target"
      ],
      "execution_count": 5,
      "outputs": []
    },
    {
      "cell_type": "code",
      "metadata": {
        "colab": {
          "base_uri": "https://localhost:8080/",
          "height": 0
        },
        "id": "xWJrvWmmf3sU",
        "outputId": "0fb7a4e3-0ce0-4548-d1e7-f759224a1766"
      },
      "source": [
        "from sklearn.model_selection import train_test_split\n",
        "x_train, x_test, y_train, y_test = train_test_split(x, y, test_size = 0.2, random_state = 5, shuffle=True)\n",
        "\n",
        "# Displaying the size of the split\n",
        "print('Test set size:\\nX_test =', len(x_test), '\\ny_test =', len(y_test), '\\n')\n",
        "print('Training set size\\nX_train =', len(x_train), '\\ny_train =', len(y_train))"
      ],
      "execution_count": 6,
      "outputs": [
        {
          "output_type": "stream",
          "text": [
            "Test set size:\n",
            "X_test = 360 \n",
            "y_test = 360 \n",
            "\n",
            "Training set size\n",
            "X_train = 1437 \n",
            "y_train = 1437\n"
          ],
          "name": "stdout"
        }
      ]
    },
    {
      "cell_type": "markdown",
      "metadata": {
        "id": "8C-B0iGKi-37"
      },
      "source": [
        "##<b>Training the SVM Model</b>"
      ]
    },
    {
      "cell_type": "code",
      "metadata": {
        "id": "fAST3K3Gf3Y7"
      },
      "source": [
        "model = svm.SVC(kernel='poly',gamma=0.001)\n",
        "#fit to the training data\n",
        "model.fit(x_train,y_train)\n",
        "\n",
        "y_pred = model.predict(x_test)"
      ],
      "execution_count": 7,
      "outputs": []
    },
    {
      "cell_type": "markdown",
      "metadata": {
        "id": "xECL8r4jjFPJ"
      },
      "source": [
        "##<b>Results</b>"
      ]
    },
    {
      "cell_type": "code",
      "metadata": {
        "colab": {
          "base_uri": "https://localhost:8080/",
          "height": 0
        },
        "id": "yAyBVBGif4pL",
        "outputId": "4d7500b2-6ad4-4efc-9c90-26acf55d2f97"
      },
      "source": [
        "print(\"\\nAccuracy: %.2f\" %(accuracy_score(y_test, y_pred)*100))\n",
        "print(\"Mean Squared Error: %.2f\" %(mean_squared_error(y_test, y_pred)*100))\n",
        "print('Report',classification_report(y_test, y_pred))\n"
      ],
      "execution_count": 8,
      "outputs": [
        {
          "output_type": "stream",
          "text": [
            "\n",
            "Accuracy: 98.33\n",
            "Mean Squared Error: 12.50\n",
            "Report               precision    recall  f1-score   support\n",
            "\n",
            "           0       1.00      1.00      1.00        35\n",
            "           1       1.00      1.00      1.00        35\n",
            "           2       0.97      1.00      0.99        36\n",
            "           3       1.00      0.95      0.97        37\n",
            "           4       1.00      1.00      1.00        32\n",
            "           5       0.96      0.98      0.97        46\n",
            "           6       1.00      0.97      0.98        30\n",
            "           7       1.00      0.98      0.99        42\n",
            "           8       0.97      1.00      0.99        38\n",
            "           9       0.93      0.97      0.95        29\n",
            "\n",
            "    accuracy                           0.98       360\n",
            "   macro avg       0.98      0.98      0.98       360\n",
            "weighted avg       0.98      0.98      0.98       360\n",
            "\n"
          ],
          "name": "stdout"
        }
      ]
    },
    {
      "cell_type": "code",
      "metadata": {
        "colab": {
          "base_uri": "https://localhost:8080/",
          "height": 300
        },
        "id": "3sZgIhvhf4mo",
        "outputId": "61fac430-4f7f-4137-81d3-86f110226a90"
      },
      "source": [
        "plot_confusion_matrix(model, x_test, y_test)"
      ],
      "execution_count": 9,
      "outputs": [
        {
          "output_type": "execute_result",
          "data": {
            "text/plain": [
              "<sklearn.metrics._plot.confusion_matrix.ConfusionMatrixDisplay at 0x7f1e5d604f90>"
            ]
          },
          "metadata": {
            "tags": []
          },
          "execution_count": 9
        },
        {
          "output_type": "display_data",
          "data": {
            "image/png": "[encoded data removed]",
            "text/plain": [
              "<Figure size 432x288 with 2 Axes>"
            ]
          },
          "metadata": {
            "tags": [],
            "needs_background": "light"
          }
        }
      ]
    },
    {
      "cell_type": "code",
      "metadata": {
        "id": "zyKpSp-ghElG"
      },
      "source": [
        ""
      ],
      "execution_count": 9,
      "outputs": []
    }
  ]
}