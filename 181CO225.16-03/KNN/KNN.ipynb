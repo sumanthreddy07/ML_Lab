{
  "nbformat": 4,
  "nbformat_minor": 0,
  "metadata": {
    "colab": {
      "name": "KNN",
      "provenance": []
    },
    "kernelspec": {
      "name": "python3",
      "display_name": "Python 3"
    }
  },
  "cells": [
    {
      "cell_type": "markdown",
      "metadata": {
        "id": "mC4Dwq94JRnW"
      },
      "source": [
        "<center>\n",
        "\n",
        "#<b>CS353 ML Lab 6</b>\n",
        "\n",
        "## Name: K V Sumanth Reddy\n",
        "## Roll No: 181CO225\n",
        "### Batch: Section 2\n",
        "### Date: 16/03/2021\n",
        "---\n",
        "###Q: Build a KNN model to predict whether a person will be a defaulter or not in a credit scoring system.\n",
        "---\n",
        "####<b>Dataset Used:</b> Credit Scoring Dataset (https://archive.ics.uci.edu/ml/datasets/default+of+credit+card+clients)\n",
        "</center>"
      ]
    },
    {
      "cell_type": "markdown",
      "metadata": {
        "id": "Xkq0_NRzJ-Qx"
      },
      "source": [
        "##<b>Importing Libraries and Dataset</b>"
      ]
    },
    {
      "cell_type": "code",
      "metadata": {
        "id": "JH0rc27hHqnl"
      },
      "source": [
        "import numpy as np\n",
        "import matplotlib.pyplot as plt\n",
        "import pandas as pd\n",
        "\n",
        "from sklearn.neighbors import KNeighborsClassifier\n",
        "\n",
        "from sklearn.metrics import plot_confusion_matrix,explained_variance_score\n",
        "from sklearn.metrics import mean_squared_error\n",
        "from sklearn.metrics import accuracy_score, classification_report\n"
      ],
      "execution_count": 1,
      "outputs": []
    },
    {
      "cell_type": "code",
      "metadata": {
        "colab": {
          "base_uri": "https://localhost:8080/",
          "height": 238
        },
        "id": "q-LSUmpBLM91",
        "outputId": "3ab085ce-5e26-4fda-e6c2-a5b58e8a42f8"
      },
      "source": [
        "dataset = pd.read_csv('data.csv')\n",
        "dataset = dataset[1:]\n",
        "#printing 5 sample tuples\n",
        "dataset.sample(5)"
      ],
      "execution_count": 2,
      "outputs": [
        {
          "output_type": "execute_result",
          "data": {
            "text/html": [
              "<div>\n",
              "<style scoped>\n",
              "    .dataframe tbody tr th:only-of-type {\n",
              "        vertical-align: middle;\n",
              "    }\n",
              "\n",
              "    .dataframe tbody tr th {\n",
              "        vertical-align: top;\n",
              "    }\n",
              "\n",
              "    .dataframe thead th {\n",
              "        text-align: right;\n",
              "    }\n",
              "</style>\n",
              "<table border=\"1\" class=\"dataframe\">\n",
              "  <thead>\n",
              "    <tr style=\"text-align: right;\">\n",
              "      <th></th>\n",
              "      <th>Unnamed: 0</th>\n",
              "      <th>X1</th>\n",
              "      <th>X2</th>\n",
              "      <th>X3</th>\n",
              "      <th>X4</th>\n",
              "      <th>X5</th>\n",
              "      <th>X6</th>\n",
              "      <th>X7</th>\n",
              "      <th>X8</th>\n",
              "      <th>X9</th>\n",
              "      <th>X10</th>\n",
              "      <th>X11</th>\n",
              "      <th>X12</th>\n",
              "      <th>X13</th>\n",
              "      <th>X14</th>\n",
              "      <th>X15</th>\n",
              "      <th>X16</th>\n",
              "      <th>X17</th>\n",
              "      <th>X18</th>\n",
              "      <th>X19</th>\n",
              "      <th>X20</th>\n",
              "      <th>X21</th>\n",
              "      <th>X22</th>\n",
              "      <th>X23</th>\n",
              "      <th>Y</th>\n",
              "    </tr>\n",
              "  </thead>\n",
              "  <tbody>\n",
              "    <tr>\n",
              "      <th>9213</th>\n",
              "      <td>9213</td>\n",
              "      <td>80000</td>\n",
              "      <td>1</td>\n",
              "      <td>2</td>\n",
              "      <td>1</td>\n",
              "      <td>34</td>\n",
              "      <td>1</td>\n",
              "      <td>2</td>\n",
              "      <td>2</td>\n",
              "      <td>0</td>\n",
              "      <td>0</td>\n",
              "      <td>0</td>\n",
              "      <td>64575</td>\n",
              "      <td>65961</td>\n",
              "      <td>64308</td>\n",
              "      <td>65047</td>\n",
              "      <td>66504</td>\n",
              "      <td>74360</td>\n",
              "      <td>3000</td>\n",
              "      <td>0</td>\n",
              "      <td>2400</td>\n",
              "      <td>2500</td>\n",
              "      <td>9000</td>\n",
              "      <td>0</td>\n",
              "      <td>0</td>\n",
              "    </tr>\n",
              "    <tr>\n",
              "      <th>28545</th>\n",
              "      <td>28545</td>\n",
              "      <td>170000</td>\n",
              "      <td>2</td>\n",
              "      <td>2</td>\n",
              "      <td>1</td>\n",
              "      <td>35</td>\n",
              "      <td>0</td>\n",
              "      <td>0</td>\n",
              "      <td>0</td>\n",
              "      <td>0</td>\n",
              "      <td>0</td>\n",
              "      <td>0</td>\n",
              "      <td>96565</td>\n",
              "      <td>62524</td>\n",
              "      <td>88390</td>\n",
              "      <td>63470</td>\n",
              "      <td>55890</td>\n",
              "      <td>51650</td>\n",
              "      <td>30580</td>\n",
              "      <td>50000</td>\n",
              "      <td>24517</td>\n",
              "      <td>14243</td>\n",
              "      <td>7852</td>\n",
              "      <td>4835</td>\n",
              "      <td>0</td>\n",
              "    </tr>\n",
              "    <tr>\n",
              "      <th>1474</th>\n",
              "      <td>1474</td>\n",
              "      <td>230000</td>\n",
              "      <td>1</td>\n",
              "      <td>2</td>\n",
              "      <td>2</td>\n",
              "      <td>39</td>\n",
              "      <td>-1</td>\n",
              "      <td>-1</td>\n",
              "      <td>-1</td>\n",
              "      <td>-1</td>\n",
              "      <td>-1</td>\n",
              "      <td>-1</td>\n",
              "      <td>326</td>\n",
              "      <td>326</td>\n",
              "      <td>326</td>\n",
              "      <td>326</td>\n",
              "      <td>326</td>\n",
              "      <td>326</td>\n",
              "      <td>652</td>\n",
              "      <td>326</td>\n",
              "      <td>326</td>\n",
              "      <td>326</td>\n",
              "      <td>326</td>\n",
              "      <td>326</td>\n",
              "      <td>0</td>\n",
              "    </tr>\n",
              "    <tr>\n",
              "      <th>28339</th>\n",
              "      <td>28339</td>\n",
              "      <td>80000</td>\n",
              "      <td>2</td>\n",
              "      <td>3</td>\n",
              "      <td>1</td>\n",
              "      <td>40</td>\n",
              "      <td>0</td>\n",
              "      <td>0</td>\n",
              "      <td>0</td>\n",
              "      <td>0</td>\n",
              "      <td>0</td>\n",
              "      <td>0</td>\n",
              "      <td>18608</td>\n",
              "      <td>19583</td>\n",
              "      <td>19098</td>\n",
              "      <td>14269</td>\n",
              "      <td>14612</td>\n",
              "      <td>16945</td>\n",
              "      <td>2000</td>\n",
              "      <td>2000</td>\n",
              "      <td>1090</td>\n",
              "      <td>2300</td>\n",
              "      <td>4500</td>\n",
              "      <td>1050</td>\n",
              "      <td>0</td>\n",
              "    </tr>\n",
              "    <tr>\n",
              "      <th>1138</th>\n",
              "      <td>1138</td>\n",
              "      <td>50000</td>\n",
              "      <td>1</td>\n",
              "      <td>2</td>\n",
              "      <td>1</td>\n",
              "      <td>41</td>\n",
              "      <td>0</td>\n",
              "      <td>0</td>\n",
              "      <td>0</td>\n",
              "      <td>0</td>\n",
              "      <td>0</td>\n",
              "      <td>0</td>\n",
              "      <td>19339</td>\n",
              "      <td>20424</td>\n",
              "      <td>20086</td>\n",
              "      <td>18600</td>\n",
              "      <td>19153</td>\n",
              "      <td>19289</td>\n",
              "      <td>1703</td>\n",
              "      <td>1306</td>\n",
              "      <td>810</td>\n",
              "      <td>1000</td>\n",
              "      <td>900</td>\n",
              "      <td>900</td>\n",
              "      <td>0</td>\n",
              "    </tr>\n",
              "  </tbody>\n",
              "</table>\n",
              "</div>"
            ],
            "text/plain": [
              "      Unnamed: 0      X1 X2 X3 X4  X5  ...    X19    X20    X21   X22   X23  Y\n",
              "9213        9213   80000  1  2  1  34  ...      0   2400   2500  9000     0  0\n",
              "28545      28545  170000  2  2  1  35  ...  50000  24517  14243  7852  4835  0\n",
              "1474        1474  230000  1  2  2  39  ...    326    326    326   326   326  0\n",
              "28339      28339   80000  2  3  1  40  ...   2000   1090   2300  4500  1050  0\n",
              "1138        1138   50000  1  2  1  41  ...   1306    810   1000   900   900  0\n",
              "\n",
              "[5 rows x 25 columns]"
            ]
          },
          "metadata": {
            "tags": []
          },
          "execution_count": 2
        }
      ]
    },
    {
      "cell_type": "code",
      "metadata": {
        "colab": {
          "base_uri": "https://localhost:8080/",
          "height": 0
        },
        "id": "mSe8u8Q7LW59",
        "outputId": "e0d7237b-a2a5-4e22-a091-25ba8e774326"
      },
      "source": [
        "dataset.info()"
      ],
      "execution_count": 3,
      "outputs": [
        {
          "output_type": "stream",
          "text": [
            "<class 'pandas.core.frame.DataFrame'>\n",
            "RangeIndex: 30000 entries, 1 to 30000\n",
            "Data columns (total 25 columns):\n",
            " #   Column      Non-Null Count  Dtype \n",
            "---  ------      --------------  ----- \n",
            " 0   Unnamed: 0  30000 non-null  object\n",
            " 1   X1          30000 non-null  object\n",
            " 2   X2          30000 non-null  object\n",
            " 3   X3          30000 non-null  object\n",
            " 4   X4          30000 non-null  object\n",
            " 5   X5          30000 non-null  object\n",
            " 6   X6          30000 non-null  object\n",
            " 7   X7          30000 non-null  object\n",
            " 8   X8          30000 non-null  object\n",
            " 9   X9          30000 non-null  object\n",
            " 10  X10         30000 non-null  object\n",
            " 11  X11         30000 non-null  object\n",
            " 12  X12         30000 non-null  object\n",
            " 13  X13         30000 non-null  object\n",
            " 14  X14         30000 non-null  object\n",
            " 15  X15         30000 non-null  object\n",
            " 16  X16         30000 non-null  object\n",
            " 17  X17         30000 non-null  object\n",
            " 18  X18         30000 non-null  object\n",
            " 19  X19         30000 non-null  object\n",
            " 20  X20         30000 non-null  object\n",
            " 21  X21         30000 non-null  object\n",
            " 22  X22         30000 non-null  object\n",
            " 23  X23         30000 non-null  object\n",
            " 24  Y           30000 non-null  object\n",
            "dtypes: object(25)\n",
            "memory usage: 5.7+ MB\n"
          ],
          "name": "stdout"
        }
      ]
    },
    {
      "cell_type": "markdown",
      "metadata": {
        "id": "VfPXT16dKBgF"
      },
      "source": [
        "##<b>Data Preprocessing</b>"
      ]
    },
    {
      "cell_type": "code",
      "metadata": {
        "id": "oh0vvsjePQ4X"
      },
      "source": [
        "y = dataset.Y\n",
        "x = dataset.drop(['Y'], axis = 1)"
      ],
      "execution_count": 4,
      "outputs": []
    },
    {
      "cell_type": "code",
      "metadata": {
        "colab": {
          "base_uri": "https://localhost:8080/",
          "height": 0
        },
        "id": "RTe6gqrHIL2Y",
        "outputId": "f500ef7d-1254-41c5-cf6a-decdfce2de2a"
      },
      "source": [
        "from sklearn.model_selection import train_test_split\n",
        "x_train, x_test, y_train, y_test = train_test_split(x, y, test_size = 0.25, random_state = 5)\n",
        "\n",
        "print('Training dataset size:\\nx_train -', len(x_train), '\\ny_train -', len(y_train), '\\n')\n",
        "print('Testing dataset size:\\nx_test -', len(x_test), '\\ny_test -', len(y_test))"
      ],
      "execution_count": 5,
      "outputs": [
        {
          "output_type": "stream",
          "text": [
            "Training dataset size:\n",
            "x_train - 22500 \n",
            "y_train - 22500 \n",
            "\n",
            "Testing dataset size:\n",
            "x_test - 7500 \n",
            "y_test - 7500\n"
          ],
          "name": "stdout"
        }
      ]
    },
    {
      "cell_type": "markdown",
      "metadata": {
        "id": "OVJ60OCLim9N"
      },
      "source": [
        "##<b>Training the KNN Model</b>"
      ]
    },
    {
      "cell_type": "code",
      "metadata": {
        "id": "TH3a9b_BeHF8"
      },
      "source": [
        "KNN = []\n",
        "for i in range(1,21):\n",
        "  KNNModel = KNeighborsClassifier(n_neighbors = i)\n",
        "  KNN.append(KNNModel)"
      ],
      "execution_count": 6,
      "outputs": []
    },
    {
      "cell_type": "code",
      "metadata": {
        "id": "sOc-gC6GekZE"
      },
      "source": [
        "for i in range(20):\n",
        "  KNN[i].fit(x_train, y_train) "
      ],
      "execution_count": 7,
      "outputs": []
    },
    {
      "cell_type": "markdown",
      "metadata": {
        "id": "d2CRaaG_wJNw"
      },
      "source": [
        "##<b>Finding Accuracies for all models using the test dataset</b>"
      ]
    },
    {
      "cell_type": "code",
      "metadata": {
        "colab": {
          "base_uri": "https://localhost:8080/",
          "height": 0
        },
        "id": "qxTPr873erFb",
        "outputId": "770f949e-a31b-4eca-f55a-b06d8e556bfa"
      },
      "source": [
        "train_accuracyKNN = []    #store training accuracies\n",
        "test_accuracyKNN = []     #store testing accuracies\n",
        "maxacc = 0\n",
        "iofmax = 0\n",
        "\n",
        "for i in range(20):\n",
        "  train_accuracyKNN.append(KNN[i].score(x_train, y_train))\n",
        "  test_accuracyKNN.append(KNN[i].score(x_test, y_test))\n",
        "  y_pred = KNN[i].predict(x_test)\n",
        "  print('K = {}'.format(i + 1))\n",
        "  print(\"Accuracy: %.2f\" %(accuracy_score(y_test, y_pred)*100))\n",
        "  print(\"Mean Squared Error: %.2f\" %(mean_squared_error(y_test, y_pred)*100))\n",
        "  print(\"--------------------------------\")\n",
        "  if maxacc<accuracy_score(y_test, y_pred)*100:\n",
        "    maxacc = accuracy_score(y_test, y_pred)*100\n",
        "    iofmax = i"
      ],
      "execution_count": 8,
      "outputs": [
        {
          "output_type": "stream",
          "text": [
            "K = 1\n",
            "Accuracy: 68.75\n",
            "Mean Squared Error: 31.25\n",
            "--------------------------------\n",
            "K = 2\n",
            "Accuracy: 76.11\n",
            "Mean Squared Error: 23.89\n",
            "--------------------------------\n",
            "K = 3\n",
            "Accuracy: 72.59\n",
            "Mean Squared Error: 27.41\n",
            "--------------------------------\n",
            "K = 4\n",
            "Accuracy: 76.36\n",
            "Mean Squared Error: 23.64\n",
            "--------------------------------\n",
            "K = 5\n",
            "Accuracy: 74.95\n",
            "Mean Squared Error: 25.05\n",
            "--------------------------------\n",
            "K = 6\n",
            "Accuracy: 77.07\n",
            "Mean Squared Error: 22.93\n",
            "--------------------------------\n",
            "K = 7\n",
            "Accuracy: 76.28\n",
            "Mean Squared Error: 23.72\n",
            "--------------------------------\n",
            "K = 8\n",
            "Accuracy: 77.35\n",
            "Mean Squared Error: 22.65\n",
            "--------------------------------\n",
            "K = 9\n",
            "Accuracy: 76.35\n",
            "Mean Squared Error: 23.65\n",
            "--------------------------------\n",
            "K = 10\n",
            "Accuracy: 77.52\n",
            "Mean Squared Error: 22.48\n",
            "--------------------------------\n",
            "K = 11\n",
            "Accuracy: 76.73\n",
            "Mean Squared Error: 23.27\n",
            "--------------------------------\n",
            "K = 12\n",
            "Accuracy: 77.25\n",
            "Mean Squared Error: 22.75\n",
            "--------------------------------\n",
            "K = 13\n",
            "Accuracy: 76.87\n",
            "Mean Squared Error: 23.13\n",
            "--------------------------------\n",
            "K = 14\n",
            "Accuracy: 77.47\n",
            "Mean Squared Error: 22.53\n",
            "--------------------------------\n",
            "K = 15\n",
            "Accuracy: 77.20\n",
            "Mean Squared Error: 22.80\n",
            "--------------------------------\n",
            "K = 16\n",
            "Accuracy: 77.57\n",
            "Mean Squared Error: 22.43\n",
            "--------------------------------\n",
            "K = 17\n",
            "Accuracy: 77.36\n",
            "Mean Squared Error: 22.64\n",
            "--------------------------------\n",
            "K = 18\n",
            "Accuracy: 77.51\n",
            "Mean Squared Error: 22.49\n",
            "--------------------------------\n",
            "K = 19\n",
            "Accuracy: 77.31\n",
            "Mean Squared Error: 22.69\n",
            "--------------------------------\n",
            "K = 20\n",
            "Accuracy: 77.64\n",
            "Mean Squared Error: 22.36\n",
            "--------------------------------\n"
          ],
          "name": "stdout"
        }
      ]
    },
    {
      "cell_type": "markdown",
      "metadata": {
        "id": "A7JQel3hi0Yl"
      },
      "source": [
        "##<b>Results</b>"
      ]
    },
    {
      "cell_type": "code",
      "metadata": {
        "colab": {
          "base_uri": "https://localhost:8080/",
          "height": 570
        },
        "id": "UeRvgfVQaOuk",
        "outputId": "543da561-d68d-4193-feeb-29592df44f8a"
      },
      "source": [
        "y_pred = KNN[iofmax].predict(x_test)\n",
        "\n",
        "print(\"--------------------------------\")\n",
        "print('K = {}'.format(iofmax + 1))\n",
        "print(classification_report(y_test,y_pred))\n",
        "print(\"\\nAccuracy: %.2f\" %(accuracy_score(y_test, y_pred)*100))\n",
        "print(\"Mean Squared Error: %.2f\" %(mean_squared_error(y_test, y_pred)*100))\n",
        "print(\"Explained Variance: %.2f\" %(explained_variance_score(y_test, y_pred)*100))\n",
        "print(plot_confusion_matrix(KNN[iofmax],x_test, y_test, values_format='d'))\n",
        "print(\"--------------------------------\")"
      ],
      "execution_count": 9,
      "outputs": [
        {
          "output_type": "stream",
          "text": [
            "--------------------------------\n",
            "K = 20\n",
            "              precision    recall  f1-score   support\n",
            "\n",
            "           0       0.79      0.98      0.87      5841\n",
            "           1       0.46      0.07      0.12      1659\n",
            "\n",
            "    accuracy                           0.78      7500\n",
            "   macro avg       0.62      0.52      0.49      7500\n",
            "weighted avg       0.72      0.78      0.71      7500\n",
            "\n",
            "\n",
            "Accuracy: 77.64\n",
            "Mean Squared Error: 22.36\n",
            "Explained Variance: -9.08\n",
            "<sklearn.metrics._plot.confusion_matrix.ConfusionMatrixDisplay object at 0x7f374bf58890>\n",
            "--------------------------------\n"
          ],
          "name": "stdout"
        },
        {
          "output_type": "display_data",
          "data": {
            "image/png": "[encoded data removed]",
            "text/plain": [
              "<Figure size 432x288 with 2 Axes>"
            ]
          },
          "metadata": {
            "tags": [],
            "needs_background": "light"
          }
        }
      ]
    },
    {
      "cell_type": "code",
      "metadata": {
        "colab": {
          "base_uri": "https://localhost:8080/",
          "height": 295
        },
        "id": "7PSY4-4Le4L-",
        "outputId": "85afd4f9-f2e9-42d6-e5f3-b68232379b13"
      },
      "source": [
        "lst = [1,2,3,4,5,6,7,8,9,10,11,12,13,14,15,16,17,18,19,20]\n",
        "\n",
        "fig = plt.figure()\n",
        "ax = plt.axes()\n",
        "plt.plot(lst, train_accuracyKNN, label = 'Training Accuracy')\n",
        "plt.plot(lst, test_accuracyKNN, label = 'Testing Accuracy')\n",
        "plt.xlabel('K (number of neighbours)')\n",
        "plt.ylabel('Mean accuracy')\n",
        "plt.title('Accuracy vs K')\n",
        "plt.legend()\n",
        "plt.savefig('Graph.png')\n",
        "plt.show()"
      ],
      "execution_count": 10,
      "outputs": [
        {
          "output_type": "display_data",
          "data": {
            "image/png": "[encoded data removed]",
            "text/plain": [
              "<Figure size 432x288 with 1 Axes>"
            ]
          },
          "metadata": {
            "tags": [],
            "needs_background": "light"
          }
        }
      ]
    },
    {
      "cell_type": "code",
      "metadata": {
        "id": "wEbkjyk_YnT7"
      },
      "source": [
        ""
      ],
      "execution_count": 10,
      "outputs": []
    }
  ]
}